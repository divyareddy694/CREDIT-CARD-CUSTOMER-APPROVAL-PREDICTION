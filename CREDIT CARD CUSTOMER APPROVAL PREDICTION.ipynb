{
 "cells": [
  {
   "cell_type": "markdown",
   "id": "e112b44d",
   "metadata": {},
   "source": [
    "# CREDIT CARD CUSTOMER APPROVAL PREDICTION"
   ]
  },
  {
   "cell_type": "markdown",
   "id": "ad610193",
   "metadata": {},
   "source": [
    "### DONE BY :\n",
    "\n",
    " DIVYA REDDY RAVIPATI\n",
    " "
   ]
  },
  {
   "cell_type": "markdown",
   "id": "a5d9b6f3",
   "metadata": {},
   "source": [
    "ABSTRACT:\n",
    "    The present research endeavors to tackle the crucial undertaking of credit card client acceptance in the banking sector by        employing sophisticated machine learning methodologies\n",
    "    to construct a predictive model.\n",
    "    The approach improves decision-making, lowers human bias, and raises overall accuracy in credit approval processes through       the analysis of historical data. \n",
    "    The process entails a thorough analysis of previous credit card applications to use prediction algorithms to find important     signs and minute relationships.\n",
    "    To reduce the biases, present in human decision-making, the model changes and grows over time by learning from data. \n",
    "    The main goal is to increase the accuracy of credit approval processes, making it easier to identify applicants\n",
    "    who pose a danger or who are not. Through its exploration of cutting-edge technology in credit risk assessment,\n",
    "    the research helps to create more dependable and efficient credit evaluation procedures.\n",
    "    In the ever-changing world of finance, By examining innovative technologies in credit risk assessment, the research advances     more dependable and efficient credit evaluation procedures. \n",
    "    This research provides valuable insights to strengthen credit approval systems in the ever-changing financial world, \n",
    "    so they can continue to be resilient, flexible, and sensitive to changing market conditions.\n",
    "    Providing the financial sector with tools that expedite procedures while promoting justice, accuracy, and flexibility is the     ultimate objective."
   ]
  },
  {
   "cell_type": "markdown",
   "id": "496a86e0",
   "metadata": {},
   "source": [
    "INTRODUCTION:\n",
    "The review and acceptance of credit card applications are critical procedures that have a significant impact on financial organizations \n",
    "as well as individual customers in the complex world of finance.\n",
    "By utilizing cutting-edge machine learning techniques, this research aims to herald in a new age \n",
    "by building a predictive model particularly intended for credit card client acceptance. \n",
    "This model is based on a thorough examination of large amounts of historical data combined with the use of advanced forecasting algorithms. \n",
    "The model, in contrast to conventional credit evaluation techniques, aims to go beyond static criteria by adjusting to dynamic patterns and changing trends in the data.[2]\n",
    "The goal of this research is to improve decision-making processes, which is made possible by the model's capacity to identify minute connections and learn from past data. \n",
    "This flexibility not only improves the accuracy of credit assessments but also tackles the innate prejudices that are frequently linked to human judgment in conventional systems. \n",
    "The main goal is to advance credit approval systems' development so that they can identify possible hazards and creditworthy applicants more accurately, increasing their efficiency.\n",
    "As we enter the age of technological innovation, the research also explores how cutting-edge technologies are applied to address the difficulties inherent in credit risk assessment. \n",
    "The study aims to strengthen credit evaluation procedures by embracing the most recent advancements, \n",
    "making sure they are flexible and durable in the face of quickly shifting market conditions. [3]\n",
    "The study's conclusions are intended to give financial institutions practical tools that will simplify credit approval procedures \n",
    "and promote a future where people can navigate the intricacies of the contemporary financial environment with fairness, accuracy, and flexibility.\n"
   ]
  },
  {
   "cell_type": "markdown",
   "id": "fb2fff09",
   "metadata": {},
   "source": [
    "LITERATURE REVIEW:\n",
    "For banks, it's critical to predict whether a credit card application will be accepted\n",
    " Much work has been done in this area, employing various techniques to ensure that the models we employ are capable of accurately determining whether a borrower is likely to repay their loan. In the past, we largely used financial information, such as age and salary, for this. However, in order to improve our forecasting, we are now utilizing more sophisticated computer tools.\n",
    "Explanatory AI (XAI) is another exciting development. This aids in our comprehension of the decision-making process of these intricate computer models. It's crucial because, particularly in the banking industry, we must be able to provide an explanation for a credit card applicant's approval or denial. By providing humans with insights into these computer models, XAI approaches make them more comprehensible and transparent.[4]\n",
    "Combining many models has also gained popularity. Researchers are mixing many techniques of prediction instead of depending on just one. We refer to this process as ensemble learning, and it improves the accuracy of our forecasts. It's similar to gathering diverse viewpoints to improve decision-making.\n",
    "Another area of study being conducted by researchers is feature engineering. Rather of relying just on the standard parameters, they are investigating novel variables. These may include information from non-traditional sources, which is something we hadn't previously considered. We aim to improve the strength and predictive power of the models by experimenting with different feature combinations.[5]\n",
    "In conclusion, there is constant change in the study on credit card approval prediction. These days, we're thinking beyond the obvious, utilizing cutting-edge AI strategies, mixing and matching approaches, and investigating novel angles. Accurate models that are also simple to comprehend and modify in response to changes in the financial industry are the aim. In order to make sure that choices concerning who receives a credit card are fair and well-informed, it is imperative that this field of study be up to date with the most recent trends and difficulties\n"
   ]
  },
  {
   "cell_type": "markdown",
   "id": "5b01aa5e",
   "metadata": {},
   "source": [
    "DATA COLLECTION :\n",
    "When it comes to gathering information about credit card transactions and applicants, the data collection process is multi-faceted and varies based on the data's origin and purpose. Platforms like Kaggle, known for predictive modeling and analytics competitions, serve as hubs where credit card-related datasets are sourced. These datasets can originate from diverse channels such as financial institutions, credit bureaus, or specially crafted datasets designed for specific challenges on the Kaggle platform.\n",
    "\n",
    "Essential to this process are two key CSV files: the Credit Card Record and the Application Record. The former meticulously logs individual credit card transactions, detailing transaction dates, amounts, merchant information, and any flags denoting noteworthy indicators. Conversely, the Application Record file delves into the details of individuals applying for credit cards, encompassing personal information like names, ages, genders, financial specifics such as income and expenses, and a snapshot of their credit history.\n",
    "\n",
    "The amalgamation and consolidation of data from these files lay a foundational framework for subsequent analyses and predictive modeling. This comprehensive dataset facilitates a holistic understanding of both credit card transactions and the profiles of individuals seeking credit. The cyclical process of exploring the data, refining features, and training models ensures that the resulting insights and predictive models align closely with the intricate dynamics of credit card-related behaviors and risks. In essence, this systematic approach to data collection serves as the bedrock for making well-informed decisions within the financial landscape."
   ]
  },
  {
   "cell_type": "code",
   "execution_count": 1,
   "id": "bc77d9a7",
   "metadata": {
    "tags": []
   },
   "outputs": [],
   "source": [
    "import pandas as pd\n",
    "import numpy as np\n",
    "import math\n",
    "import seaborn as sns\n",
    "import matplotlib.pyplot as plt\n",
    "import scipy\n",
    "from sklearn.linear_model import LogisticRegression\n",
    "from sklearn.model_selection import GridSearchCV, train_test_split\n",
    "from sklearn.metrics import accuracy_score, precision_score, recall_score,f1_score, confusion_matrix, ConfusionMatrixDisplay, classification_report\n",
    "from sklearn.metrics import roc_auc_score, roc_curve\n",
    "from imblearn.over_sampling import SMOTENC, SMOTEN\n",
    "from sklearn.ensemble import RandomForestClassifier\n",
    "from sklearn.preprocessing import OneHotEncoder\n",
    "from xgboost import XGBClassifier"
   ]
  },
  {
   "cell_type": "code",
   "execution_count": 2,
   "id": "dd77b427-8ac5-4c32-9539-51ded6b98efc",
   "metadata": {
    "tags": []
   },
   "outputs": [],
   "source": [
    "df= pd.read_csv(\"application_record.csv\", encoding = 'utf-8') \n",
    "df_credit = pd.read_csv(\"credit_record.csv\", encoding = 'utf-8')  "
   ]
  },
  {
   "cell_type": "code",
   "execution_count": 142,
   "id": "66095168-b1b9-4151-983f-20ce27d76d1f",
   "metadata": {
    "tags": []
   },
   "outputs": [
    {
     "name": "stdout",
     "output_type": "stream",
     "text": [
      "The first table shows the quantity of distinct customer IDs. 438510\n",
      "The amount of unique customer IDs for the second table 45985\n",
      "The quantity of unique customer IDs that are included in both tables: 36457\n"
     ]
    }
   ],
   "source": [
    "print('The first table shows the quantity of distinct customer IDs.',df['ID'].nunique())\n",
    "print('The amount of unique customer IDs for the second table',df_credit['ID'].nunique())\n",
    "print('The quantity of unique customer IDs that are included in both tables:',df[df['ID'].isin(df_credit['ID'])]['ID'].nunique())"
   ]
  },
  {
   "cell_type": "code",
   "execution_count": 143,
   "id": "473d45d8-37cf-41b9-b42e-ddba39537397",
   "metadata": {
    "tags": []
   },
   "outputs": [],
   "source": [
    "# Remove all non-useful samples.\n",
    "df = df[df['ID'].isin(df_credit['ID'])]\n",
    "df_credit = df_credit[df_credit['ID'].isin(df['ID'])]"
   ]
  },
  {
   "cell_type": "code",
   "execution_count": 144,
   "id": "07547541-ce25-4897-9ab1-36437eae14e7",
   "metadata": {
    "tags": []
   },
   "outputs": [],
   "source": [
    "#create a label\n",
    "def label_bad(df):\n",
    "    if (df[\"STATUS\"]=='3') | (df[\"STATUS\"]=='4') | (df[\"STATUS\"]=='5'): # bad\n",
    "        return 2\n",
    "    elif (df[\"STATUS\"]=='X'): # no record\n",
    "        return -1\n",
    "    elif (df[\"STATUS\"]=='0') | (df[\"STATUS\"]=='1') | (df[\"STATUS\"]=='2'): # indeterminates\n",
    "        return 1\n",
    "    else:\n",
    "        return 0"
   ]
  },
  {
   "cell_type": "code",
   "execution_count": 145,
   "id": "8ef5f754-45e4-409a-9e15-cd3ebebece2a",
   "metadata": {
    "tags": []
   },
   "outputs": [],
   "source": [
    "df_credit[\"MONTHS_BALANCE\"] = -df_credit[\"MONTHS_BALANCE\"]\n",
    "df_credit = df_credit[df_credit[\"MONTHS_BALANCE\"]<=12]\n",
    "df_credit[\"Bad_Customer\"] = df_credit.apply(label_bad, axis=1)"
   ]
  },
  {
   "cell_type": "code",
   "execution_count": 146,
   "id": "5f196f70-8b6a-48a6-baa5-d97e4bacc7c5",
   "metadata": {
    "tags": []
   },
   "outputs": [],
   "source": [
    "df_credit_labeled = df_credit[['ID','Bad_Customer',\"MONTHS_BALANCE\"]].groupby('ID',as_index=False).max()"
   ]
  },
  {
   "cell_type": "code",
   "execution_count": 147,
   "id": "3fea6fe4-21f0-4367-8fa6-bbbbeb9ac4d5",
   "metadata": {
    "tags": []
   },
   "outputs": [],
   "source": [
    "# delete a customer who merely has the X status (no use information) (marked with a -1)\n",
    "df_credit_labeled = df_credit_labeled[df_credit_labeled['Bad_Customer']!=-1]\n",
    "# eliminate the unidentified customer (labelled as 1)\n",
    "df_credit_labeled = df_credit_labeled[df_credit_labeled['Bad_Customer']!=1]\n",
    "# delete customers whose records have been open for fewer than a year.\n",
    "df_credit_labeled = df_credit_labeled[df_credit_labeled['MONTHS_BALANCE']==12]\n",
    "# Instead, tag Bad_customer as 1 (former = 2).\n",
    "df_credit_labeled['Bad_Customer'] = (df_credit_labeled['Bad_Customer']/2).apply(np.int32)\n",
    "df_credit_labeled =  df_credit_labeled.drop('MONTHS_BALANCE', axis=1)"
   ]
  },
  {
   "cell_type": "code",
   "execution_count": 148,
   "id": "8516e2a1-7e9b-4440-bdfc-778878ce21da",
   "metadata": {
    "tags": []
   },
   "outputs": [],
   "source": [
    "# merge label\n",
    "df_labeled = df.merge(df_credit_labeled,on='ID',how='inner')"
   ]
  },
  {
   "cell_type": "code",
   "execution_count": 149,
   "id": "49da868b-6115-408b-a529-10890fa4d39a",
   "metadata": {
    "tags": []
   },
   "outputs": [
    {
     "data": {
      "text/html": [
       "<div>\n",
       "<style scoped>\n",
       "    .dataframe tbody tr th:only-of-type {\n",
       "        vertical-align: middle;\n",
       "    }\n",
       "\n",
       "    .dataframe tbody tr th {\n",
       "        vertical-align: top;\n",
       "    }\n",
       "\n",
       "    .dataframe thead th {\n",
       "        text-align: right;\n",
       "    }\n",
       "</style>\n",
       "<table border=\"1\" class=\"dataframe\">\n",
       "  <thead>\n",
       "    <tr style=\"text-align: right;\">\n",
       "      <th></th>\n",
       "      <th>ID</th>\n",
       "      <th>CODE_GENDER</th>\n",
       "      <th>FLAG_OWN_CAR</th>\n",
       "      <th>FLAG_OWN_REALTY</th>\n",
       "      <th>CNT_CHILDREN</th>\n",
       "      <th>AMT_INCOME_TOTAL</th>\n",
       "      <th>NAME_INCOME_TYPE</th>\n",
       "      <th>NAME_EDUCATION_TYPE</th>\n",
       "      <th>NAME_FAMILY_STATUS</th>\n",
       "      <th>NAME_HOUSING_TYPE</th>\n",
       "      <th>DAYS_BIRTH</th>\n",
       "      <th>DAYS_EMPLOYED</th>\n",
       "      <th>FLAG_MOBIL</th>\n",
       "      <th>FLAG_WORK_PHONE</th>\n",
       "      <th>FLAG_PHONE</th>\n",
       "      <th>FLAG_EMAIL</th>\n",
       "      <th>OCCUPATION_TYPE</th>\n",
       "      <th>CNT_FAM_MEMBERS</th>\n",
       "      <th>Bad_Customer</th>\n",
       "    </tr>\n",
       "  </thead>\n",
       "  <tbody>\n",
       "    <tr>\n",
       "      <th>0</th>\n",
       "      <td>5008804</td>\n",
       "      <td>M</td>\n",
       "      <td>Y</td>\n",
       "      <td>Y</td>\n",
       "      <td>0</td>\n",
       "      <td>427500.0</td>\n",
       "      <td>Working</td>\n",
       "      <td>Higher education</td>\n",
       "      <td>Civil marriage</td>\n",
       "      <td>Rented apartment</td>\n",
       "      <td>-12005</td>\n",
       "      <td>-4542</td>\n",
       "      <td>1</td>\n",
       "      <td>1</td>\n",
       "      <td>0</td>\n",
       "      <td>0</td>\n",
       "      <td>NaN</td>\n",
       "      <td>2.0</td>\n",
       "      <td>0</td>\n",
       "    </tr>\n",
       "    <tr>\n",
       "      <th>1</th>\n",
       "      <td>5008810</td>\n",
       "      <td>F</td>\n",
       "      <td>N</td>\n",
       "      <td>Y</td>\n",
       "      <td>0</td>\n",
       "      <td>270000.0</td>\n",
       "      <td>Commercial associate</td>\n",
       "      <td>Secondary / secondary special</td>\n",
       "      <td>Single / not married</td>\n",
       "      <td>House / apartment</td>\n",
       "      <td>-19110</td>\n",
       "      <td>-3051</td>\n",
       "      <td>1</td>\n",
       "      <td>0</td>\n",
       "      <td>1</td>\n",
       "      <td>1</td>\n",
       "      <td>Sales staff</td>\n",
       "      <td>1.0</td>\n",
       "      <td>0</td>\n",
       "    </tr>\n",
       "    <tr>\n",
       "      <th>2</th>\n",
       "      <td>5008811</td>\n",
       "      <td>F</td>\n",
       "      <td>N</td>\n",
       "      <td>Y</td>\n",
       "      <td>0</td>\n",
       "      <td>270000.0</td>\n",
       "      <td>Commercial associate</td>\n",
       "      <td>Secondary / secondary special</td>\n",
       "      <td>Single / not married</td>\n",
       "      <td>House / apartment</td>\n",
       "      <td>-19110</td>\n",
       "      <td>-3051</td>\n",
       "      <td>1</td>\n",
       "      <td>0</td>\n",
       "      <td>1</td>\n",
       "      <td>1</td>\n",
       "      <td>Sales staff</td>\n",
       "      <td>1.0</td>\n",
       "      <td>0</td>\n",
       "    </tr>\n",
       "    <tr>\n",
       "      <th>3</th>\n",
       "      <td>5008826</td>\n",
       "      <td>F</td>\n",
       "      <td>Y</td>\n",
       "      <td>N</td>\n",
       "      <td>0</td>\n",
       "      <td>130500.0</td>\n",
       "      <td>Working</td>\n",
       "      <td>Incomplete higher</td>\n",
       "      <td>Married</td>\n",
       "      <td>House / apartment</td>\n",
       "      <td>-10669</td>\n",
       "      <td>-1103</td>\n",
       "      <td>1</td>\n",
       "      <td>0</td>\n",
       "      <td>0</td>\n",
       "      <td>0</td>\n",
       "      <td>Accountants</td>\n",
       "      <td>2.0</td>\n",
       "      <td>0</td>\n",
       "    </tr>\n",
       "    <tr>\n",
       "      <th>4</th>\n",
       "      <td>5008830</td>\n",
       "      <td>F</td>\n",
       "      <td>N</td>\n",
       "      <td>Y</td>\n",
       "      <td>0</td>\n",
       "      <td>157500.0</td>\n",
       "      <td>Working</td>\n",
       "      <td>Secondary / secondary special</td>\n",
       "      <td>Married</td>\n",
       "      <td>House / apartment</td>\n",
       "      <td>-10031</td>\n",
       "      <td>-1469</td>\n",
       "      <td>1</td>\n",
       "      <td>0</td>\n",
       "      <td>1</td>\n",
       "      <td>0</td>\n",
       "      <td>Laborers</td>\n",
       "      <td>2.0</td>\n",
       "      <td>0</td>\n",
       "    </tr>\n",
       "    <tr>\n",
       "      <th>5</th>\n",
       "      <td>5008832</td>\n",
       "      <td>F</td>\n",
       "      <td>N</td>\n",
       "      <td>Y</td>\n",
       "      <td>0</td>\n",
       "      <td>157500.0</td>\n",
       "      <td>Working</td>\n",
       "      <td>Secondary / secondary special</td>\n",
       "      <td>Married</td>\n",
       "      <td>House / apartment</td>\n",
       "      <td>-10031</td>\n",
       "      <td>-1469</td>\n",
       "      <td>1</td>\n",
       "      <td>0</td>\n",
       "      <td>1</td>\n",
       "      <td>0</td>\n",
       "      <td>Laborers</td>\n",
       "      <td>2.0</td>\n",
       "      <td>0</td>\n",
       "    </tr>\n",
       "    <tr>\n",
       "      <th>6</th>\n",
       "      <td>5008834</td>\n",
       "      <td>F</td>\n",
       "      <td>N</td>\n",
       "      <td>Y</td>\n",
       "      <td>1</td>\n",
       "      <td>112500.0</td>\n",
       "      <td>Working</td>\n",
       "      <td>Secondary / secondary special</td>\n",
       "      <td>Single / not married</td>\n",
       "      <td>House / apartment</td>\n",
       "      <td>-10968</td>\n",
       "      <td>-1620</td>\n",
       "      <td>1</td>\n",
       "      <td>0</td>\n",
       "      <td>0</td>\n",
       "      <td>0</td>\n",
       "      <td>NaN</td>\n",
       "      <td>2.0</td>\n",
       "      <td>0</td>\n",
       "    </tr>\n",
       "    <tr>\n",
       "      <th>7</th>\n",
       "      <td>5008836</td>\n",
       "      <td>M</td>\n",
       "      <td>Y</td>\n",
       "      <td>Y</td>\n",
       "      <td>3</td>\n",
       "      <td>270000.0</td>\n",
       "      <td>Working</td>\n",
       "      <td>Secondary / secondary special</td>\n",
       "      <td>Married</td>\n",
       "      <td>House / apartment</td>\n",
       "      <td>-12689</td>\n",
       "      <td>-1163</td>\n",
       "      <td>1</td>\n",
       "      <td>0</td>\n",
       "      <td>0</td>\n",
       "      <td>0</td>\n",
       "      <td>Laborers</td>\n",
       "      <td>5.0</td>\n",
       "      <td>0</td>\n",
       "    </tr>\n",
       "    <tr>\n",
       "      <th>8</th>\n",
       "      <td>5008837</td>\n",
       "      <td>M</td>\n",
       "      <td>Y</td>\n",
       "      <td>Y</td>\n",
       "      <td>3</td>\n",
       "      <td>270000.0</td>\n",
       "      <td>Working</td>\n",
       "      <td>Secondary / secondary special</td>\n",
       "      <td>Married</td>\n",
       "      <td>House / apartment</td>\n",
       "      <td>-12689</td>\n",
       "      <td>-1163</td>\n",
       "      <td>1</td>\n",
       "      <td>0</td>\n",
       "      <td>0</td>\n",
       "      <td>0</td>\n",
       "      <td>Laborers</td>\n",
       "      <td>5.0</td>\n",
       "      <td>0</td>\n",
       "    </tr>\n",
       "    <tr>\n",
       "      <th>9</th>\n",
       "      <td>5008840</td>\n",
       "      <td>M</td>\n",
       "      <td>N</td>\n",
       "      <td>Y</td>\n",
       "      <td>1</td>\n",
       "      <td>405000.0</td>\n",
       "      <td>Commercial associate</td>\n",
       "      <td>Higher education</td>\n",
       "      <td>Married</td>\n",
       "      <td>House / apartment</td>\n",
       "      <td>-11842</td>\n",
       "      <td>-2016</td>\n",
       "      <td>1</td>\n",
       "      <td>0</td>\n",
       "      <td>0</td>\n",
       "      <td>0</td>\n",
       "      <td>Managers</td>\n",
       "      <td>3.0</td>\n",
       "      <td>0</td>\n",
       "    </tr>\n",
       "  </tbody>\n",
       "</table>\n",
       "</div>"
      ],
      "text/plain": [
       "        ID CODE_GENDER FLAG_OWN_CAR FLAG_OWN_REALTY  CNT_CHILDREN  \\\n",
       "0  5008804           M            Y               Y             0   \n",
       "1  5008810           F            N               Y             0   \n",
       "2  5008811           F            N               Y             0   \n",
       "3  5008826           F            Y               N             0   \n",
       "4  5008830           F            N               Y             0   \n",
       "5  5008832           F            N               Y             0   \n",
       "6  5008834           F            N               Y             1   \n",
       "7  5008836           M            Y               Y             3   \n",
       "8  5008837           M            Y               Y             3   \n",
       "9  5008840           M            N               Y             1   \n",
       "\n",
       "   AMT_INCOME_TOTAL      NAME_INCOME_TYPE            NAME_EDUCATION_TYPE  \\\n",
       "0          427500.0               Working               Higher education   \n",
       "1          270000.0  Commercial associate  Secondary / secondary special   \n",
       "2          270000.0  Commercial associate  Secondary / secondary special   \n",
       "3          130500.0               Working              Incomplete higher   \n",
       "4          157500.0               Working  Secondary / secondary special   \n",
       "5          157500.0               Working  Secondary / secondary special   \n",
       "6          112500.0               Working  Secondary / secondary special   \n",
       "7          270000.0               Working  Secondary / secondary special   \n",
       "8          270000.0               Working  Secondary / secondary special   \n",
       "9          405000.0  Commercial associate               Higher education   \n",
       "\n",
       "     NAME_FAMILY_STATUS  NAME_HOUSING_TYPE  DAYS_BIRTH  DAYS_EMPLOYED  \\\n",
       "0        Civil marriage   Rented apartment      -12005          -4542   \n",
       "1  Single / not married  House / apartment      -19110          -3051   \n",
       "2  Single / not married  House / apartment      -19110          -3051   \n",
       "3               Married  House / apartment      -10669          -1103   \n",
       "4               Married  House / apartment      -10031          -1469   \n",
       "5               Married  House / apartment      -10031          -1469   \n",
       "6  Single / not married  House / apartment      -10968          -1620   \n",
       "7               Married  House / apartment      -12689          -1163   \n",
       "8               Married  House / apartment      -12689          -1163   \n",
       "9               Married  House / apartment      -11842          -2016   \n",
       "\n",
       "   FLAG_MOBIL  FLAG_WORK_PHONE  FLAG_PHONE  FLAG_EMAIL OCCUPATION_TYPE  \\\n",
       "0           1                1           0           0             NaN   \n",
       "1           1                0           1           1     Sales staff   \n",
       "2           1                0           1           1     Sales staff   \n",
       "3           1                0           0           0     Accountants   \n",
       "4           1                0           1           0        Laborers   \n",
       "5           1                0           1           0        Laborers   \n",
       "6           1                0           0           0             NaN   \n",
       "7           1                0           0           0        Laborers   \n",
       "8           1                0           0           0        Laborers   \n",
       "9           1                0           0           0        Managers   \n",
       "\n",
       "   CNT_FAM_MEMBERS  Bad_Customer  \n",
       "0              2.0             0  \n",
       "1              1.0             0  \n",
       "2              1.0             0  \n",
       "3              2.0             0  \n",
       "4              2.0             0  \n",
       "5              2.0             0  \n",
       "6              2.0             0  \n",
       "7              5.0             0  \n",
       "8              5.0             0  \n",
       "9              3.0             0  "
      ]
     },
     "execution_count": 149,
     "metadata": {},
     "output_type": "execute_result"
    }
   ],
   "source": [
    "df_labeled.head(10)"
   ]
  },
  {
   "cell_type": "code",
   "execution_count": 150,
   "id": "2d70b876-8971-47d0-9dcf-dbbb81ce3ffe",
   "metadata": {
    "tags": []
   },
   "outputs": [],
   "source": [
    "df_labeled = df_labeled.drop('ID',axis=1)"
   ]
  },
  {
   "cell_type": "code",
   "execution_count": 151,
   "id": "632a22d4-59fb-4a09-aec1-8eb71ad93d0c",
   "metadata": {
    "tags": []
   },
   "outputs": [
    {
     "name": "stdout",
     "output_type": "stream",
     "text": [
      "Quantity of redundant data with incorrect customer labeling:  5271\n",
      "Quantity of redundant data with accurate customer labeling:  5313\n"
     ]
    }
   ],
   "source": [
    "# Verify if different card holders have labels that indicate good or bad or mix\n",
    "print('Quantity of redundant data with incorrect customer labeling: ', df_labeled.duplicated().sum())\n",
    "print('Quantity of redundant data with accurate customer labeling: ', df_labeled.drop('Bad_Customer',axis=1).duplicated().sum())"
   ]
  },
  {
   "cell_type": "code",
   "execution_count": 152,
   "id": "130e2a6a-14a4-4bcd-a7bb-33d5196aeede",
   "metadata": {
    "tags": []
   },
   "outputs": [],
   "source": [
    "# Flag duplicate information that come from the same customer\n",
    "df_labeled['ID_same_customer'] = df_labeled.groupby(['CODE_GENDER', 'FLAG_OWN_CAR', 'FLAG_OWN_REALTY', 'CNT_CHILDREN',\n",
    "       'AMT_INCOME_TOTAL', 'NAME_INCOME_TYPE', 'NAME_EDUCATION_TYPE',\n",
    "       'NAME_FAMILY_STATUS', 'NAME_HOUSING_TYPE', 'DAYS_BIRTH',\n",
    "       'DAYS_EMPLOYED', 'FLAG_MOBIL', 'FLAG_WORK_PHONE', 'FLAG_PHONE',\n",
    "       'FLAG_EMAIL', 'OCCUPATION_TYPE', 'CNT_FAM_MEMBERS'], dropna=False).ngroup()\n"
   ]
  },
  {
   "cell_type": "code",
   "execution_count": 153,
   "id": "392cbc8f-3472-4c13-9453-6f9816da01b3",
   "metadata": {
    "tags": []
   },
   "outputs": [],
   "source": [
    "#Combine data so that there is only one for every client. If more than one ID is marked as bad_customer, the bad_customer tag value is 1.\n",
    "df_labeled = df_labeled.groupby(['ID_same_customer','CODE_GENDER', 'FLAG_OWN_CAR', 'FLAG_OWN_REALTY', 'CNT_CHILDREN',\n",
    "       'AMT_INCOME_TOTAL', 'NAME_INCOME_TYPE', 'NAME_EDUCATION_TYPE',\n",
    "       'NAME_FAMILY_STATUS', 'NAME_HOUSING_TYPE', 'DAYS_BIRTH',\n",
    "       'DAYS_EMPLOYED', 'FLAG_MOBIL', 'FLAG_WORK_PHONE', 'FLAG_PHONE',\n",
    "       'FLAG_EMAIL', 'OCCUPATION_TYPE', 'CNT_FAM_MEMBERS'],as_index=False,dropna=False).max()"
   ]
  },
  {
   "cell_type": "code",
   "execution_count": 154,
   "id": "336e7fff-44f1-49fd-bb23-695632821f83",
   "metadata": {
    "tags": []
   },
   "outputs": [
    {
     "data": {
      "text/plain": [
       "0"
      ]
     },
     "execution_count": 154,
     "metadata": {},
     "output_type": "execute_result"
    }
   ],
   "source": [
    "# Verify the duplicate data once more.\n",
    "\n",
    "df_labeled.drop('ID_same_customer',axis=1).duplicated().sum()"
   ]
  },
  {
   "cell_type": "code",
   "execution_count": 155,
   "id": "38a39ee2-589a-4869-93ac-031591f0a08b",
   "metadata": {
    "tags": []
   },
   "outputs": [
    {
     "data": {
      "text/plain": [
       "ID_same_customer       0.000000\n",
       "CODE_GENDER            0.000000\n",
       "FLAG_OWN_CAR           0.000000\n",
       "FLAG_OWN_REALTY        0.000000\n",
       "CNT_CHILDREN           0.000000\n",
       "AMT_INCOME_TOTAL       0.000000\n",
       "NAME_INCOME_TYPE       0.000000\n",
       "NAME_EDUCATION_TYPE    0.000000\n",
       "NAME_FAMILY_STATUS     0.000000\n",
       "NAME_HOUSING_TYPE      0.000000\n",
       "DAYS_BIRTH             0.000000\n",
       "DAYS_EMPLOYED          0.000000\n",
       "FLAG_MOBIL             0.000000\n",
       "FLAG_WORK_PHONE        0.000000\n",
       "FLAG_PHONE             0.000000\n",
       "FLAG_EMAIL             0.000000\n",
       "OCCUPATION_TYPE        4.226897\n",
       "CNT_FAM_MEMBERS        0.000000\n",
       "Bad_Customer           0.000000\n",
       "dtype: float64"
      ]
     },
     "execution_count": 155,
     "metadata": {},
     "output_type": "execute_result"
    }
   ],
   "source": [
    "df_labeled.isna().sum()/df.shape[0]*100"
   ]
  },
  {
   "cell_type": "code",
   "execution_count": 156,
   "id": "4ba0e276-64c0-4a8e-a13e-c754d6d1be2b",
   "metadata": {
    "tags": []
   },
   "outputs": [
    {
     "data": {
      "text/plain": [
       "Text(0.5, 1.0, 'Customer income category without occupation information')"
      ]
     },
     "execution_count": 156,
     "metadata": {},
     "output_type": "execute_result"
    },
    {
     "data": {
      "image/png": "[encoded data removed]",
      "text/plain": [
       "<Figure size 800x200 with 1 Axes>"
      ]
     },
     "metadata": {},
     "output_type": "display_data"
    }
   ],
   "source": [
    "plt.figure(figsize=(8,2))\n",
    "sns.countplot(x= df_labeled[df_labeled[\"OCCUPATION_TYPE\"].isna()][\"NAME_INCOME_TYPE\"])\n",
    "plt.title(\"Customer income category without occupation information\")"
   ]
  },
  {
   "cell_type": "code",
   "execution_count": 157,
   "id": "b849f55d-f9bd-4b86-82f8-6191af3d44c6",
   "metadata": {
    "tags": []
   },
   "outputs": [],
   "source": [
    "#label kind of pensioner occupation\n",
    "df_labeled.loc[df_labeled[\"NAME_INCOME_TYPE\"]==\"Pensioner\",\"OCCUPATION_TYPE\"] = \"Pensioner\""
   ]
  },
  {
   "cell_type": "code",
   "execution_count": 158,
   "id": "9fbc6716-662f-4bef-baec-a6bd2e82c812",
   "metadata": {
    "tags": []
   },
   "outputs": [
    {
     "data": {
      "text/plain": [
       "ID_same_customer       0.000000\n",
       "CODE_GENDER            0.000000\n",
       "FLAG_OWN_CAR           0.000000\n",
       "FLAG_OWN_REALTY        0.000000\n",
       "CNT_CHILDREN           0.000000\n",
       "AMT_INCOME_TOTAL       0.000000\n",
       "NAME_INCOME_TYPE       0.000000\n",
       "NAME_EDUCATION_TYPE    0.000000\n",
       "NAME_FAMILY_STATUS     0.000000\n",
       "NAME_HOUSING_TYPE      0.000000\n",
       "DAYS_BIRTH             0.000000\n",
       "DAYS_EMPLOYED          0.000000\n",
       "FLAG_MOBIL             0.000000\n",
       "FLAG_WORK_PHONE        0.000000\n",
       "FLAG_PHONE             0.000000\n",
       "FLAG_EMAIL             0.000000\n",
       "OCCUPATION_TYPE        1.818581\n",
       "CNT_FAM_MEMBERS        0.000000\n",
       "Bad_Customer           0.000000\n",
       "dtype: float64"
      ]
     },
     "execution_count": 158,
     "metadata": {},
     "output_type": "execute_result"
    }
   ],
   "source": [
    "# After allocating a pensioner, check the missing data.\n",
    "df_labeled.isna().sum()/df.shape[0]*100"
   ]
  },
  {
   "cell_type": "code",
   "execution_count": 159,
   "id": "ec09f135-6cab-46c8-8414-6177d94647cf",
   "metadata": {
    "tags": []
   },
   "outputs": [],
   "source": [
    "# remove rows with null occupations\n",
    "\n",
    "df_labeled = df_labeled.dropna(axis=0)"
   ]
  },
  {
   "cell_type": "code",
   "execution_count": 160,
   "id": "b6997942-61ad-4685-b54e-89b7d8c2e79d",
   "metadata": {
    "tags": []
   },
   "outputs": [
    {
     "data": {
      "text/plain": [
       "array(['F', 'M'], dtype=object)"
      ]
     },
     "execution_count": 160,
     "metadata": {},
     "output_type": "execute_result"
    }
   ],
   "source": [
    "df_labeled[\"CODE_GENDER\"].unique()"
   ]
  },
  {
   "cell_type": "code",
   "execution_count": 161,
   "id": "158e94f9-e3d2-40d9-910d-52b9a36a70b7",
   "metadata": {
    "tags": []
   },
   "outputs": [
    {
     "data": {
      "text/plain": [
       "array(['N', 'Y'], dtype=object)"
      ]
     },
     "execution_count": 161,
     "metadata": {},
     "output_type": "execute_result"
    }
   ],
   "source": [
    "df_labeled[\"FLAG_OWN_CAR\"].unique()"
   ]
  },
  {
   "cell_type": "code",
   "execution_count": 162,
   "id": "26b51f1a-a22a-4cd0-b487-3289b070b833",
   "metadata": {
    "tags": []
   },
   "outputs": [
    {
     "data": {
      "text/plain": [
       "array(['N', 'Y'], dtype=object)"
      ]
     },
     "execution_count": 162,
     "metadata": {},
     "output_type": "execute_result"
    }
   ],
   "source": [
    "df_labeled[\"FLAG_OWN_REALTY\"].unique()"
   ]
  },
  {
   "cell_type": "code",
   "execution_count": 163,
   "id": "4ab7e73c-1841-408a-8d70-26bd81feb166",
   "metadata": {
    "tags": []
   },
   "outputs": [
    {
     "data": {
      "text/plain": [
       "array(['Working', 'Pensioner', 'State servant', 'Commercial associate',\n",
       "       'Student'], dtype=object)"
      ]
     },
     "execution_count": 163,
     "metadata": {},
     "output_type": "execute_result"
    }
   ],
   "source": [
    "df_labeled[\"NAME_INCOME_TYPE\"].unique()"
   ]
  },
  {
   "cell_type": "code",
   "execution_count": 164,
   "id": "b416ba9a-6590-41f0-8639-091da9a3127a",
   "metadata": {
    "tags": []
   },
   "outputs": [
    {
     "data": {
      "text/plain": [
       "array(['Civil marriage', 'Married', 'Single / not married', 'Widow',\n",
       "       'Separated'], dtype=object)"
      ]
     },
     "execution_count": 164,
     "metadata": {},
     "output_type": "execute_result"
    }
   ],
   "source": [
    "df_labeled[\"NAME_FAMILY_STATUS\"].unique()"
   ]
  },
  {
   "cell_type": "code",
   "execution_count": 165,
   "id": "6017bd7d-8a28-47cb-b27e-9f24efed4c73",
   "metadata": {
    "tags": []
   },
   "outputs": [
    {
     "data": {
      "text/plain": [
       "array(['House / apartment', 'Office apartment', 'With parents',\n",
       "       'Municipal apartment', 'Co-op apartment', 'Rented apartment'],\n",
       "      dtype=object)"
      ]
     },
     "execution_count": 165,
     "metadata": {},
     "output_type": "execute_result"
    }
   ],
   "source": [
    "df_labeled[\"NAME_HOUSING_TYPE\"].unique()"
   ]
  },
  {
   "cell_type": "code",
   "execution_count": 166,
   "id": "11d2d681-16dd-4008-a035-f79db4e1a937",
   "metadata": {
    "tags": []
   },
   "outputs": [
    {
     "data": {
      "text/plain": [
       "array(['Managers', 'Pensioner', 'Core staff', 'Accountants',\n",
       "       'Sales staff', 'Cleaning staff', 'Medicine staff', 'Laborers',\n",
       "       'Security staff', 'High skill tech staff', 'Cooking staff',\n",
       "       'Private service staff', 'Waiters/barmen staff', 'Secretaries',\n",
       "       'HR staff', 'Low-skill Laborers', 'Drivers', 'IT staff',\n",
       "       'Realty agents'], dtype=object)"
      ]
     },
     "execution_count": 166,
     "metadata": {},
     "output_type": "execute_result"
    }
   ],
   "source": [
    "df_labeled[\"OCCUPATION_TYPE\"].unique()"
   ]
  },
  {
   "cell_type": "code",
   "execution_count": 167,
   "id": "6133bfbf-40d6-49d5-b9a7-536dab03ddb5",
   "metadata": {
    "tags": []
   },
   "outputs": [],
   "source": [
    "#drop gender\n",
    "\n",
    "df_labeled = df_labeled.drop(\"CODE_GENDER\", axis=1)"
   ]
  },
  {
   "cell_type": "code",
   "execution_count": 168,
   "id": "e1d81a62-41c7-4a6f-b54e-6f661bdb56ea",
   "metadata": {
    "tags": []
   },
   "outputs": [
    {
     "data": {
      "text/html": [
       "<div>\n",
       "<style scoped>\n",
       "    .dataframe tbody tr th:only-of-type {\n",
       "        vertical-align: middle;\n",
       "    }\n",
       "\n",
       "    .dataframe tbody tr th {\n",
       "        vertical-align: top;\n",
       "    }\n",
       "\n",
       "    .dataframe thead th {\n",
       "        text-align: right;\n",
       "    }\n",
       "</style>\n",
       "<table border=\"1\" class=\"dataframe\">\n",
       "  <thead>\n",
       "    <tr style=\"text-align: right;\">\n",
       "      <th></th>\n",
       "      <th>ID_same_customer</th>\n",
       "      <th>FLAG_OWN_CAR</th>\n",
       "      <th>FLAG_OWN_REALTY</th>\n",
       "      <th>CNT_CHILDREN</th>\n",
       "      <th>AMT_INCOME_TOTAL</th>\n",
       "      <th>NAME_INCOME_TYPE</th>\n",
       "      <th>NAME_EDUCATION_TYPE</th>\n",
       "      <th>NAME_FAMILY_STATUS</th>\n",
       "      <th>NAME_HOUSING_TYPE</th>\n",
       "      <th>DAYS_BIRTH</th>\n",
       "      <th>DAYS_EMPLOYED</th>\n",
       "      <th>FLAG_MOBIL</th>\n",
       "      <th>FLAG_WORK_PHONE</th>\n",
       "      <th>FLAG_PHONE</th>\n",
       "      <th>FLAG_EMAIL</th>\n",
       "      <th>OCCUPATION_TYPE</th>\n",
       "      <th>CNT_FAM_MEMBERS</th>\n",
       "      <th>Bad_Customer</th>\n",
       "    </tr>\n",
       "  </thead>\n",
       "  <tbody>\n",
       "    <tr>\n",
       "      <th>0</th>\n",
       "      <td>0</td>\n",
       "      <td>N</td>\n",
       "      <td>N</td>\n",
       "      <td>0</td>\n",
       "      <td>27000.0</td>\n",
       "      <td>Working</td>\n",
       "      <td>Higher education</td>\n",
       "      <td>Civil marriage</td>\n",
       "      <td>House / apartment</td>\n",
       "      <td>-14869</td>\n",
       "      <td>-5067</td>\n",
       "      <td>1</td>\n",
       "      <td>1</td>\n",
       "      <td>0</td>\n",
       "      <td>0</td>\n",
       "      <td>Managers</td>\n",
       "      <td>2.0</td>\n",
       "      <td>0</td>\n",
       "    </tr>\n",
       "    <tr>\n",
       "      <th>1</th>\n",
       "      <td>1</td>\n",
       "      <td>N</td>\n",
       "      <td>N</td>\n",
       "      <td>0</td>\n",
       "      <td>33300.0</td>\n",
       "      <td>Pensioner</td>\n",
       "      <td>Secondary / secondary special</td>\n",
       "      <td>Married</td>\n",
       "      <td>Office apartment</td>\n",
       "      <td>-19605</td>\n",
       "      <td>365243</td>\n",
       "      <td>1</td>\n",
       "      <td>0</td>\n",
       "      <td>0</td>\n",
       "      <td>0</td>\n",
       "      <td>Pensioner</td>\n",
       "      <td>2.0</td>\n",
       "      <td>0</td>\n",
       "    </tr>\n",
       "    <tr>\n",
       "      <th>2</th>\n",
       "      <td>2</td>\n",
       "      <td>N</td>\n",
       "      <td>N</td>\n",
       "      <td>0</td>\n",
       "      <td>36000.0</td>\n",
       "      <td>Working</td>\n",
       "      <td>Secondary / secondary special</td>\n",
       "      <td>Married</td>\n",
       "      <td>With parents</td>\n",
       "      <td>-14500</td>\n",
       "      <td>-459</td>\n",
       "      <td>1</td>\n",
       "      <td>1</td>\n",
       "      <td>0</td>\n",
       "      <td>0</td>\n",
       "      <td>Core staff</td>\n",
       "      <td>2.0</td>\n",
       "      <td>0</td>\n",
       "    </tr>\n",
       "    <tr>\n",
       "      <th>3</th>\n",
       "      <td>3</td>\n",
       "      <td>N</td>\n",
       "      <td>N</td>\n",
       "      <td>0</td>\n",
       "      <td>36900.0</td>\n",
       "      <td>Pensioner</td>\n",
       "      <td>Higher education</td>\n",
       "      <td>Married</td>\n",
       "      <td>House / apartment</td>\n",
       "      <td>-22581</td>\n",
       "      <td>365243</td>\n",
       "      <td>1</td>\n",
       "      <td>0</td>\n",
       "      <td>0</td>\n",
       "      <td>0</td>\n",
       "      <td>Pensioner</td>\n",
       "      <td>2.0</td>\n",
       "      <td>0</td>\n",
       "    </tr>\n",
       "    <tr>\n",
       "      <th>4</th>\n",
       "      <td>4</td>\n",
       "      <td>N</td>\n",
       "      <td>N</td>\n",
       "      <td>0</td>\n",
       "      <td>40500.0</td>\n",
       "      <td>Pensioner</td>\n",
       "      <td>Secondary / secondary special</td>\n",
       "      <td>Single / not married</td>\n",
       "      <td>House / apartment</td>\n",
       "      <td>-21091</td>\n",
       "      <td>365243</td>\n",
       "      <td>1</td>\n",
       "      <td>0</td>\n",
       "      <td>0</td>\n",
       "      <td>0</td>\n",
       "      <td>Pensioner</td>\n",
       "      <td>1.0</td>\n",
       "      <td>0</td>\n",
       "    </tr>\n",
       "  </tbody>\n",
       "</table>\n",
       "</div>"
      ],
      "text/plain": [
       "   ID_same_customer FLAG_OWN_CAR FLAG_OWN_REALTY  CNT_CHILDREN  \\\n",
       "0                 0            N               N             0   \n",
       "1                 1            N               N             0   \n",
       "2                 2            N               N             0   \n",
       "3                 3            N               N             0   \n",
       "4                 4            N               N             0   \n",
       "\n",
       "   AMT_INCOME_TOTAL NAME_INCOME_TYPE            NAME_EDUCATION_TYPE  \\\n",
       "0           27000.0          Working               Higher education   \n",
       "1           33300.0        Pensioner  Secondary / secondary special   \n",
       "2           36000.0          Working  Secondary / secondary special   \n",
       "3           36900.0        Pensioner               Higher education   \n",
       "4           40500.0        Pensioner  Secondary / secondary special   \n",
       "\n",
       "     NAME_FAMILY_STATUS  NAME_HOUSING_TYPE  DAYS_BIRTH  DAYS_EMPLOYED  \\\n",
       "0        Civil marriage  House / apartment      -14869          -5067   \n",
       "1               Married   Office apartment      -19605         365243   \n",
       "2               Married       With parents      -14500           -459   \n",
       "3               Married  House / apartment      -22581         365243   \n",
       "4  Single / not married  House / apartment      -21091         365243   \n",
       "\n",
       "   FLAG_MOBIL  FLAG_WORK_PHONE  FLAG_PHONE  FLAG_EMAIL OCCUPATION_TYPE  \\\n",
       "0           1                1           0           0        Managers   \n",
       "1           1                0           0           0       Pensioner   \n",
       "2           1                1           0           0      Core staff   \n",
       "3           1                0           0           0       Pensioner   \n",
       "4           1                0           0           0       Pensioner   \n",
       "\n",
       "   CNT_FAM_MEMBERS  Bad_Customer  \n",
       "0              2.0             0  \n",
       "1              2.0             0  \n",
       "2              2.0             0  \n",
       "3              2.0             0  \n",
       "4              1.0             0  "
      ]
     },
     "execution_count": 168,
     "metadata": {},
     "output_type": "execute_result"
    }
   ],
   "source": [
    "df_labeled.head()"
   ]
  },
  {
   "cell_type": "code",
   "execution_count": 169,
   "id": "7305bff6-b818-487d-b34b-f5199a232321",
   "metadata": {
    "tags": []
   },
   "outputs": [],
   "source": [
    "#For future reference, define the weight of evidence (WOE) function.\n",
    "def WOE_cal(df,col_name):\n",
    "    WOE = pd.DataFrame()\n",
    "    total_bad = df[\"Bad_Customer\"].sum()\n",
    "    total_good = df.shape[0]-total_bad\n",
    "    WOE[\"Dist_bad\"]  = (df_labeled.groupby(col_name)[\"Bad_Customer\"].sum())/total_bad\n",
    "    WOE[\"Dist_good\"] = (df_labeled.groupby(col_name)[\"Bad_Customer\"].count()-df_labeled.groupby(col_name)[\"Bad_Customer\"].sum())/total_good\n",
    "    WOE[\"WOE\"] = (np.log((WOE[\"Dist_good\"]/WOE[\"Dist_bad\"])))\n",
    "    IV = (WOE[\"WOE\"]*(WOE[\"Dist_good\"]-WOE[\"Dist_bad\"])).sum() # information value\n",
    "    return [WOE, IV]"
   ]
  },
  {
   "cell_type": "code",
   "execution_count": 170,
   "id": "d1b2e3bd-4111-47fa-abff-77ff3c13fda2",
   "metadata": {
    "tags": []
   },
   "outputs": [],
   "source": [
    "# Change DAYS_BIRTH to the year's AGE\n",
    "df_labeled[\"AGE\"] = ((-df_labeled[\"DAYS_BIRTH\"])/365).apply(int)\n",
    "df_labeled = df_labeled.drop([\"DAYS_BIRTH\"],axis=1)"
   ]
  },
  {
   "cell_type": "code",
   "execution_count": 171,
   "id": "5fb5d52d-490e-468a-9015-d668fbc98bd5",
   "metadata": {
    "tags": []
   },
   "outputs": [],
   "source": [
    "# Change the year's employed days to YEAR_EMPLOYED.\n",
    "df_labeled[\"YEAR_EMPLOYED\"] = np.ceil(-(df_labeled[\"DAYS_EMPLOYED\"]/365))\n",
    "df_labeled = df_labeled.drop([\"DAYS_EMPLOYED\"],axis=1)"
   ]
  },
  {
   "cell_type": "code",
   "execution_count": 172,
   "id": "123c382e-5354-41e1-b020-a3bd26bc68ef",
   "metadata": {
    "tags": []
   },
   "outputs": [],
   "source": [
    "df_labeled = df_labeled.reset_index(drop=True)\n",
    "df_labeled = df_labeled.drop([\"ID_same_customer\"],axis=1)"
   ]
  },
  {
   "cell_type": "code",
   "execution_count": 173,
   "id": "f9cb0ba7-4609-4044-af3f-fe416c168c92",
   "metadata": {
    "tags": []
   },
   "outputs": [
    {
     "data": {
      "text/html": [
       "<div>\n",
       "<style scoped>\n",
       "    .dataframe tbody tr th:only-of-type {\n",
       "        vertical-align: middle;\n",
       "    }\n",
       "\n",
       "    .dataframe tbody tr th {\n",
       "        vertical-align: top;\n",
       "    }\n",
       "\n",
       "    .dataframe thead th {\n",
       "        text-align: right;\n",
       "    }\n",
       "</style>\n",
       "<table border=\"1\" class=\"dataframe\">\n",
       "  <thead>\n",
       "    <tr style=\"text-align: right;\">\n",
       "      <th></th>\n",
       "      <th>FLAG_OWN_CAR</th>\n",
       "      <th>FLAG_OWN_REALTY</th>\n",
       "      <th>CNT_CHILDREN</th>\n",
       "      <th>AMT_INCOME_TOTAL</th>\n",
       "      <th>NAME_INCOME_TYPE</th>\n",
       "      <th>NAME_EDUCATION_TYPE</th>\n",
       "      <th>NAME_FAMILY_STATUS</th>\n",
       "      <th>NAME_HOUSING_TYPE</th>\n",
       "      <th>FLAG_MOBIL</th>\n",
       "      <th>FLAG_WORK_PHONE</th>\n",
       "      <th>FLAG_PHONE</th>\n",
       "      <th>FLAG_EMAIL</th>\n",
       "      <th>OCCUPATION_TYPE</th>\n",
       "      <th>CNT_FAM_MEMBERS</th>\n",
       "      <th>Bad_Customer</th>\n",
       "      <th>AGE</th>\n",
       "      <th>YEAR_EMPLOYED</th>\n",
       "    </tr>\n",
       "  </thead>\n",
       "  <tbody>\n",
       "    <tr>\n",
       "      <th>0</th>\n",
       "      <td>N</td>\n",
       "      <td>N</td>\n",
       "      <td>0</td>\n",
       "      <td>27000.0</td>\n",
       "      <td>Working</td>\n",
       "      <td>Higher education</td>\n",
       "      <td>Civil marriage</td>\n",
       "      <td>House / apartment</td>\n",
       "      <td>1</td>\n",
       "      <td>1</td>\n",
       "      <td>0</td>\n",
       "      <td>0</td>\n",
       "      <td>Managers</td>\n",
       "      <td>2.0</td>\n",
       "      <td>0</td>\n",
       "      <td>40</td>\n",
       "      <td>14.0</td>\n",
       "    </tr>\n",
       "    <tr>\n",
       "      <th>1</th>\n",
       "      <td>N</td>\n",
       "      <td>N</td>\n",
       "      <td>0</td>\n",
       "      <td>33300.0</td>\n",
       "      <td>Pensioner</td>\n",
       "      <td>Secondary / secondary special</td>\n",
       "      <td>Married</td>\n",
       "      <td>Office apartment</td>\n",
       "      <td>1</td>\n",
       "      <td>0</td>\n",
       "      <td>0</td>\n",
       "      <td>0</td>\n",
       "      <td>Pensioner</td>\n",
       "      <td>2.0</td>\n",
       "      <td>0</td>\n",
       "      <td>53</td>\n",
       "      <td>-1000.0</td>\n",
       "    </tr>\n",
       "    <tr>\n",
       "      <th>2</th>\n",
       "      <td>N</td>\n",
       "      <td>N</td>\n",
       "      <td>0</td>\n",
       "      <td>36000.0</td>\n",
       "      <td>Working</td>\n",
       "      <td>Secondary / secondary special</td>\n",
       "      <td>Married</td>\n",
       "      <td>With parents</td>\n",
       "      <td>1</td>\n",
       "      <td>1</td>\n",
       "      <td>0</td>\n",
       "      <td>0</td>\n",
       "      <td>Core staff</td>\n",
       "      <td>2.0</td>\n",
       "      <td>0</td>\n",
       "      <td>39</td>\n",
       "      <td>2.0</td>\n",
       "    </tr>\n",
       "    <tr>\n",
       "      <th>3</th>\n",
       "      <td>N</td>\n",
       "      <td>N</td>\n",
       "      <td>0</td>\n",
       "      <td>36900.0</td>\n",
       "      <td>Pensioner</td>\n",
       "      <td>Higher education</td>\n",
       "      <td>Married</td>\n",
       "      <td>House / apartment</td>\n",
       "      <td>1</td>\n",
       "      <td>0</td>\n",
       "      <td>0</td>\n",
       "      <td>0</td>\n",
       "      <td>Pensioner</td>\n",
       "      <td>2.0</td>\n",
       "      <td>0</td>\n",
       "      <td>61</td>\n",
       "      <td>-1000.0</td>\n",
       "    </tr>\n",
       "    <tr>\n",
       "      <th>4</th>\n",
       "      <td>N</td>\n",
       "      <td>N</td>\n",
       "      <td>0</td>\n",
       "      <td>40500.0</td>\n",
       "      <td>Pensioner</td>\n",
       "      <td>Secondary / secondary special</td>\n",
       "      <td>Single / not married</td>\n",
       "      <td>House / apartment</td>\n",
       "      <td>1</td>\n",
       "      <td>0</td>\n",
       "      <td>0</td>\n",
       "      <td>0</td>\n",
       "      <td>Pensioner</td>\n",
       "      <td>1.0</td>\n",
       "      <td>0</td>\n",
       "      <td>57</td>\n",
       "      <td>-1000.0</td>\n",
       "    </tr>\n",
       "  </tbody>\n",
       "</table>\n",
       "</div>"
      ],
      "text/plain": [
       "  FLAG_OWN_CAR FLAG_OWN_REALTY  CNT_CHILDREN  AMT_INCOME_TOTAL  \\\n",
       "0            N               N             0           27000.0   \n",
       "1            N               N             0           33300.0   \n",
       "2            N               N             0           36000.0   \n",
       "3            N               N             0           36900.0   \n",
       "4            N               N             0           40500.0   \n",
       "\n",
       "  NAME_INCOME_TYPE            NAME_EDUCATION_TYPE    NAME_FAMILY_STATUS  \\\n",
       "0          Working               Higher education        Civil marriage   \n",
       "1        Pensioner  Secondary / secondary special               Married   \n",
       "2          Working  Secondary / secondary special               Married   \n",
       "3        Pensioner               Higher education               Married   \n",
       "4        Pensioner  Secondary / secondary special  Single / not married   \n",
       "\n",
       "   NAME_HOUSING_TYPE  FLAG_MOBIL  FLAG_WORK_PHONE  FLAG_PHONE  FLAG_EMAIL  \\\n",
       "0  House / apartment           1                1           0           0   \n",
       "1   Office apartment           1                0           0           0   \n",
       "2       With parents           1                1           0           0   \n",
       "3  House / apartment           1                0           0           0   \n",
       "4  House / apartment           1                0           0           0   \n",
       "\n",
       "  OCCUPATION_TYPE  CNT_FAM_MEMBERS  Bad_Customer  AGE  YEAR_EMPLOYED  \n",
       "0        Managers              2.0             0   40           14.0  \n",
       "1       Pensioner              2.0             0   53        -1000.0  \n",
       "2      Core staff              2.0             0   39            2.0  \n",
       "3       Pensioner              2.0             0   61        -1000.0  \n",
       "4       Pensioner              1.0             0   57        -1000.0  "
      ]
     },
     "execution_count": 173,
     "metadata": {},
     "output_type": "execute_result"
    }
   ],
   "source": [
    "df_labeled.head()"
   ]
  },
  {
   "cell_type": "code",
   "execution_count": 174,
   "id": "b3f4f8da-f8b6-4acf-8271-f40f610b3898",
   "metadata": {
    "tags": []
   },
   "outputs": [
    {
     "data": {
      "text/plain": [
       "FLAG_MOBIL\n",
       "1    4284\n",
       "Name: count, dtype: int64"
      ]
     },
     "execution_count": 174,
     "metadata": {},
     "output_type": "execute_result"
    }
   ],
   "source": [
    "# Demonstrate that FLAG_MOBIL only has one value.\n",
    "df_labeled[\"FLAG_MOBIL\"].value_counts()"
   ]
  },
  {
   "cell_type": "code",
   "execution_count": 175,
   "id": "cc481229-8cda-444e-ab26-e1411a484e88",
   "metadata": {
    "tags": []
   },
   "outputs": [],
   "source": [
    "# Remove FLAG_MOBIL\n",
    "df_labeled = df_labeled.drop('FLAG_MOBIL',axis=1)"
   ]
  },
  {
   "cell_type": "code",
   "execution_count": 176,
   "id": "26ed27ae-94a4-400d-bd4a-43a619099dbf",
   "metadata": {
    "tags": []
   },
   "outputs": [
    {
     "name": "stdout",
     "output_type": "stream",
     "text": [
      "Information value (IV): 0.005711083265458758\n"
     ]
    },
    {
     "data": {
      "text/html": [
       "<div>\n",
       "<style scoped>\n",
       "    .dataframe tbody tr th:only-of-type {\n",
       "        vertical-align: middle;\n",
       "    }\n",
       "\n",
       "    .dataframe tbody tr th {\n",
       "        vertical-align: top;\n",
       "    }\n",
       "\n",
       "    .dataframe thead th {\n",
       "        text-align: right;\n",
       "    }\n",
       "</style>\n",
       "<table border=\"1\" class=\"dataframe\">\n",
       "  <thead>\n",
       "    <tr style=\"text-align: right;\">\n",
       "      <th></th>\n",
       "      <th>Dist_bad</th>\n",
       "      <th>Dist_good</th>\n",
       "      <th>WOE</th>\n",
       "    </tr>\n",
       "    <tr>\n",
       "      <th>FLAG_WORK_PHONE</th>\n",
       "      <th></th>\n",
       "      <th></th>\n",
       "      <th></th>\n",
       "    </tr>\n",
       "  </thead>\n",
       "  <tbody>\n",
       "    <tr>\n",
       "      <th>1</th>\n",
       "      <td>0.247312</td>\n",
       "      <td>0.215462</td>\n",
       "      <td>-0.137867</td>\n",
       "    </tr>\n",
       "    <tr>\n",
       "      <th>0</th>\n",
       "      <td>0.752688</td>\n",
       "      <td>0.784538</td>\n",
       "      <td>0.041444</td>\n",
       "    </tr>\n",
       "  </tbody>\n",
       "</table>\n",
       "</div>"
      ],
      "text/plain": [
       "                 Dist_bad  Dist_good       WOE\n",
       "FLAG_WORK_PHONE                               \n",
       "1                0.247312   0.215462 -0.137867\n",
       "0                0.752688   0.784538  0.041444"
      ]
     },
     "execution_count": 176,
     "metadata": {},
     "output_type": "execute_result"
    }
   ],
   "source": [
    "[WOE, IV] = WOE_cal(df_labeled,\"FLAG_WORK_PHONE\")\n",
    "print(\"Information value (IV):\", IV)\n",
    "WOE.sort_values(\"WOE\")"
   ]
  },
  {
   "cell_type": "code",
   "execution_count": 177,
   "id": "24ad480b-bee3-4394-9151-95e00ffcb9ba",
   "metadata": {
    "tags": []
   },
   "outputs": [
    {
     "name": "stdout",
     "output_type": "stream",
     "text": [
      "Information value (IV): 0.020088810078150013\n"
     ]
    },
    {
     "data": {
      "text/html": [
       "<div>\n",
       "<style scoped>\n",
       "    .dataframe tbody tr th:only-of-type {\n",
       "        vertical-align: middle;\n",
       "    }\n",
       "\n",
       "    .dataframe tbody tr th {\n",
       "        vertical-align: top;\n",
       "    }\n",
       "\n",
       "    .dataframe thead th {\n",
       "        text-align: right;\n",
       "    }\n",
       "</style>\n",
       "<table border=\"1\" class=\"dataframe\">\n",
       "  <thead>\n",
       "    <tr style=\"text-align: right;\">\n",
       "      <th></th>\n",
       "      <th>Dist_bad</th>\n",
       "      <th>Dist_good</th>\n",
       "      <th>WOE</th>\n",
       "    </tr>\n",
       "    <tr>\n",
       "      <th>FLAG_PHONE</th>\n",
       "      <th></th>\n",
       "      <th></th>\n",
       "      <th></th>\n",
       "    </tr>\n",
       "  </thead>\n",
       "  <tbody>\n",
       "    <tr>\n",
       "      <th>1</th>\n",
       "      <td>0.354839</td>\n",
       "      <td>0.288714</td>\n",
       "      <td>-0.206227</td>\n",
       "    </tr>\n",
       "    <tr>\n",
       "      <th>0</th>\n",
       "      <td>0.645161</td>\n",
       "      <td>0.711286</td>\n",
       "      <td>0.097574</td>\n",
       "    </tr>\n",
       "  </tbody>\n",
       "</table>\n",
       "</div>"
      ],
      "text/plain": [
       "            Dist_bad  Dist_good       WOE\n",
       "FLAG_PHONE                               \n",
       "1           0.354839   0.288714 -0.206227\n",
       "0           0.645161   0.711286  0.097574"
      ]
     },
     "execution_count": 177,
     "metadata": {},
     "output_type": "execute_result"
    }
   ],
   "source": [
    "[WOE, IV] = WOE_cal(df_labeled,\"FLAG_PHONE\")\n",
    "print(\"Information value (IV):\", IV)\n",
    "WOE.sort_values(\"WOE\")"
   ]
  },
  {
   "cell_type": "code",
   "execution_count": 178,
   "id": "9241c2ff-90d9-4f07-8b59-5a6000bb7f96",
   "metadata": {
    "tags": []
   },
   "outputs": [
    {
     "name": "stdout",
     "output_type": "stream",
     "text": [
      "Information value (IV): 0.015541933951965283\n"
     ]
    },
    {
     "data": {
      "text/html": [
       "<div>\n",
       "<style scoped>\n",
       "    .dataframe tbody tr th:only-of-type {\n",
       "        vertical-align: middle;\n",
       "    }\n",
       "\n",
       "    .dataframe tbody tr th {\n",
       "        vertical-align: top;\n",
       "    }\n",
       "\n",
       "    .dataframe thead th {\n",
       "        text-align: right;\n",
       "    }\n",
       "</style>\n",
       "<table border=\"1\" class=\"dataframe\">\n",
       "  <thead>\n",
       "    <tr style=\"text-align: right;\">\n",
       "      <th></th>\n",
       "      <th>Dist_bad</th>\n",
       "      <th>Dist_good</th>\n",
       "      <th>WOE</th>\n",
       "    </tr>\n",
       "    <tr>\n",
       "      <th>FLAG_EMAIL</th>\n",
       "      <th></th>\n",
       "      <th></th>\n",
       "      <th></th>\n",
       "    </tr>\n",
       "  </thead>\n",
       "  <tbody>\n",
       "    <tr>\n",
       "      <th>1</th>\n",
       "      <td>0.11828</td>\n",
       "      <td>0.081126</td>\n",
       "      <td>-0.377045</td>\n",
       "    </tr>\n",
       "    <tr>\n",
       "      <th>0</th>\n",
       "      <td>0.88172</td>\n",
       "      <td>0.918874</td>\n",
       "      <td>0.041274</td>\n",
       "    </tr>\n",
       "  </tbody>\n",
       "</table>\n",
       "</div>"
      ],
      "text/plain": [
       "            Dist_bad  Dist_good       WOE\n",
       "FLAG_EMAIL                               \n",
       "1            0.11828   0.081126 -0.377045\n",
       "0            0.88172   0.918874  0.041274"
      ]
     },
     "execution_count": 178,
     "metadata": {},
     "output_type": "execute_result"
    }
   ],
   "source": [
    "[WOE, IV] = WOE_cal(df_labeled,\"FLAG_EMAIL\")\n",
    "print(\"Information value (IV):\", IV)\n",
    "WOE.sort_values(\"WOE\")"
   ]
  },
  {
   "cell_type": "code",
   "execution_count": 179,
   "id": "523fe50a-c4e1-4d82-b763-d1d617cfd30c",
   "metadata": {
    "tags": []
   },
   "outputs": [],
   "source": [
    "\n",
    "# Take down the old flag\n",
    "df_labeled = df_labeled.drop([\"FLAG_WORK_PHONE\",\"FLAG_EMAIL\",\"FLAG_PHONE\"],axis=1)"
   ]
  },
  {
   "cell_type": "code",
   "execution_count": 180,
   "id": "51bd0657-1fbf-4f18-b3c6-d14f485d6ccb",
   "metadata": {
    "tags": []
   },
   "outputs": [
    {
     "data": {
      "text/plain": [
       "FLAG_OWN_CAR\n",
       "N    62.138189\n",
       "Y    37.861811\n",
       "Name: proportion, dtype: float64"
      ]
     },
     "execution_count": 180,
     "metadata": {},
     "output_type": "execute_result"
    }
   ],
   "source": [
    "#Sample percentage for each form of income\n",
    "df_labeled[\"FLAG_OWN_CAR\"].value_counts(normalize=True)*100"
   ]
  },
  {
   "cell_type": "code",
   "execution_count": 181,
   "id": "b8075ff6-dfda-496a-82e4-88db21477526",
   "metadata": {
    "tags": []
   },
   "outputs": [
    {
     "name": "stdout",
     "output_type": "stream",
     "text": [
      "Information value (IV): 0.0025440155398926954\n"
     ]
    },
    {
     "data": {
      "text/html": [
       "<div>\n",
       "<style scoped>\n",
       "    .dataframe tbody tr th:only-of-type {\n",
       "        vertical-align: middle;\n",
       "    }\n",
       "\n",
       "    .dataframe tbody tr th {\n",
       "        vertical-align: top;\n",
       "    }\n",
       "\n",
       "    .dataframe thead th {\n",
       "        text-align: right;\n",
       "    }\n",
       "</style>\n",
       "<table border=\"1\" class=\"dataframe\">\n",
       "  <thead>\n",
       "    <tr style=\"text-align: right;\">\n",
       "      <th></th>\n",
       "      <th>Dist_bad</th>\n",
       "      <th>Dist_good</th>\n",
       "      <th>WOE</th>\n",
       "    </tr>\n",
       "    <tr>\n",
       "      <th>FLAG_OWN_CAR</th>\n",
       "      <th></th>\n",
       "      <th></th>\n",
       "      <th></th>\n",
       "    </tr>\n",
       "  </thead>\n",
       "  <tbody>\n",
       "    <tr>\n",
       "      <th>N</th>\n",
       "      <td>0.645161</td>\n",
       "      <td>0.620854</td>\n",
       "      <td>-0.038404</td>\n",
       "    </tr>\n",
       "    <tr>\n",
       "      <th>Y</th>\n",
       "      <td>0.354839</td>\n",
       "      <td>0.379146</td>\n",
       "      <td>0.066257</td>\n",
       "    </tr>\n",
       "  </tbody>\n",
       "</table>\n",
       "</div>"
      ],
      "text/plain": [
       "              Dist_bad  Dist_good       WOE\n",
       "FLAG_OWN_CAR                               \n",
       "N             0.645161   0.620854 -0.038404\n",
       "Y             0.354839   0.379146  0.066257"
      ]
     },
     "execution_count": 181,
     "metadata": {},
     "output_type": "execute_result"
    }
   ],
   "source": [
    "[WOE, IV] = WOE_cal(df_labeled,\"FLAG_OWN_CAR\")\n",
    "print(\"Information value (IV):\", IV)\n",
    "WOE.sort_values(\"WOE\")"
   ]
  },
  {
   "cell_type": "code",
   "execution_count": 182,
   "id": "b73f90d9-4d8e-46d2-bb71-34d9668d3d4e",
   "metadata": {
    "tags": []
   },
   "outputs": [],
   "source": [
    "# Remove FLAG_OWN_CAR since the IV is so low.\n",
    "df_labeled = df_labeled.drop([\"FLAG_OWN_CAR\"],axis=1)"
   ]
  },
  {
   "cell_type": "code",
   "execution_count": 183,
   "id": "2f10d926-67c7-45c0-abe3-36a90fe88810",
   "metadata": {
    "tags": []
   },
   "outputs": [
    {
     "data": {
      "text/plain": [
       "FLAG_OWN_REALTY\n",
       "Y    66.643324\n",
       "N    33.356676\n",
       "Name: proportion, dtype: float64"
      ]
     },
     "execution_count": 183,
     "metadata": {},
     "output_type": "execute_result"
    }
   ],
   "source": [
    "#Sample percentage for each form of income\n",
    "df_labeled[\"FLAG_OWN_REALTY\"].value_counts(normalize=True)*100"
   ]
  },
  {
   "cell_type": "code",
   "execution_count": 184,
   "id": "e5093016-edce-4f54-bb2f-681642a2f964",
   "metadata": {
    "tags": []
   },
   "outputs": [
    {
     "name": "stdout",
     "output_type": "stream",
     "text": [
      "Information value (IV): 0.013018083799736657\n"
     ]
    },
    {
     "data": {
      "text/html": [
       "<div>\n",
       "<style scoped>\n",
       "    .dataframe tbody tr th:only-of-type {\n",
       "        vertical-align: middle;\n",
       "    }\n",
       "\n",
       "    .dataframe tbody tr th {\n",
       "        vertical-align: top;\n",
       "    }\n",
       "\n",
       "    .dataframe thead th {\n",
       "        text-align: right;\n",
       "    }\n",
       "</style>\n",
       "<table border=\"1\" class=\"dataframe\">\n",
       "  <thead>\n",
       "    <tr style=\"text-align: right;\">\n",
       "      <th></th>\n",
       "      <th>Dist_bad</th>\n",
       "      <th>Dist_good</th>\n",
       "      <th>WOE</th>\n",
       "    </tr>\n",
       "    <tr>\n",
       "      <th>FLAG_OWN_REALTY</th>\n",
       "      <th></th>\n",
       "      <th></th>\n",
       "      <th></th>\n",
       "    </tr>\n",
       "  </thead>\n",
       "  <tbody>\n",
       "    <tr>\n",
       "      <th>N</th>\n",
       "      <td>0.387097</td>\n",
       "      <td>0.332379</td>\n",
       "      <td>-0.152399</td>\n",
       "    </tr>\n",
       "    <tr>\n",
       "      <th>Y</th>\n",
       "      <td>0.612903</td>\n",
       "      <td>0.667621</td>\n",
       "      <td>0.085514</td>\n",
       "    </tr>\n",
       "  </tbody>\n",
       "</table>\n",
       "</div>"
      ],
      "text/plain": [
       "                 Dist_bad  Dist_good       WOE\n",
       "FLAG_OWN_REALTY                               \n",
       "N                0.387097   0.332379 -0.152399\n",
       "Y                0.612903   0.667621  0.085514"
      ]
     },
     "execution_count": 184,
     "metadata": {},
     "output_type": "execute_result"
    }
   ],
   "source": [
    "[WOE, IV] = WOE_cal(df_labeled,\"FLAG_OWN_REALTY\")\n",
    "print(\"Information value (IV):\", IV)\n",
    "WOE.sort_values(\"WOE\")"
   ]
  },
  {
   "cell_type": "code",
   "execution_count": 185,
   "id": "995ea798-2c1d-4f26-8350-30987593b460",
   "metadata": {
    "tags": []
   },
   "outputs": [],
   "source": [
    "# Remove FLAG_OWN_CAR since the IV is so low.\n",
    "df_labeled = df_labeled.drop([\"FLAG_OWN_REALTY\"],axis=1)"
   ]
  },
  {
   "cell_type": "code",
   "execution_count": 186,
   "id": "d7dcfbd6-a64f-4957-9d8d-33d70978353f",
   "metadata": {
    "tags": []
   },
   "outputs": [
    {
     "data": {
      "text/plain": [
       "NAME_INCOME_TYPE\n",
       "Working                 48.646125\n",
       "Commercial associate    22.992530\n",
       "Pensioner               20.728291\n",
       "State servant            7.609711\n",
       "Student                  0.023343\n",
       "Name: proportion, dtype: float64"
      ]
     },
     "execution_count": 186,
     "metadata": {},
     "output_type": "execute_result"
    }
   ],
   "source": [
    "#Sample percentage for each form of income\n",
    "df_labeled[\"NAME_INCOME_TYPE\"].value_counts(normalize=True)*100"
   ]
  },
  {
   "cell_type": "code",
   "execution_count": 187,
   "id": "eb682949-e6a8-49cb-96d2-cd509c0af1f9",
   "metadata": {
    "tags": []
   },
   "outputs": [
    {
     "data": {
      "text/plain": [
       "NAME_INCOME_TYPE\n",
       "Working                 48.657483\n",
       "Commercial associate    22.997899\n",
       "Pensioner               20.733131\n",
       "State servant            7.611487\n",
       "Name: proportion, dtype: float64"
      ]
     },
     "execution_count": 187,
     "metadata": {},
     "output_type": "execute_result"
    }
   ],
   "source": [
    "df_labeled = df_labeled[df_labeled[\"NAME_INCOME_TYPE\"]!=\"Student\"]\n",
    "df_labeled[\"NAME_INCOME_TYPE\"].value_counts(normalize=True)*100"
   ]
  },
  {
   "cell_type": "code",
   "execution_count": 188,
   "id": "b75ef7ad-7645-4af9-9708-bac9b6b39562",
   "metadata": {
    "tags": []
   },
   "outputs": [
    {
     "name": "stdout",
     "output_type": "stream",
     "text": [
      "Information value (IV): 0.08690258519566955\n"
     ]
    },
    {
     "data": {
      "text/html": [
       "<div>\n",
       "<style scoped>\n",
       "    .dataframe tbody tr th:only-of-type {\n",
       "        vertical-align: middle;\n",
       "    }\n",
       "\n",
       "    .dataframe tbody tr th {\n",
       "        vertical-align: top;\n",
       "    }\n",
       "\n",
       "    .dataframe thead th {\n",
       "        text-align: right;\n",
       "    }\n",
       "</style>\n",
       "<table border=\"1\" class=\"dataframe\">\n",
       "  <thead>\n",
       "    <tr style=\"text-align: right;\">\n",
       "      <th></th>\n",
       "      <th>Dist_bad</th>\n",
       "      <th>Dist_good</th>\n",
       "      <th>WOE</th>\n",
       "    </tr>\n",
       "    <tr>\n",
       "      <th>NAME_INCOME_TYPE</th>\n",
       "      <th></th>\n",
       "      <th></th>\n",
       "      <th></th>\n",
       "    </tr>\n",
       "  </thead>\n",
       "  <tbody>\n",
       "    <tr>\n",
       "      <th>Commercial associate</th>\n",
       "      <td>0.279570</td>\n",
       "      <td>0.228878</td>\n",
       "      <td>-0.200062</td>\n",
       "    </tr>\n",
       "    <tr>\n",
       "      <th>Pensioner</th>\n",
       "      <td>0.236559</td>\n",
       "      <td>0.206683</td>\n",
       "      <td>-0.135014</td>\n",
       "    </tr>\n",
       "    <tr>\n",
       "      <th>Working</th>\n",
       "      <td>0.462366</td>\n",
       "      <td>0.487112</td>\n",
       "      <td>0.052139</td>\n",
       "    </tr>\n",
       "    <tr>\n",
       "      <th>State servant</th>\n",
       "      <td>0.021505</td>\n",
       "      <td>0.077327</td>\n",
       "      <td>1.279740</td>\n",
       "    </tr>\n",
       "  </tbody>\n",
       "</table>\n",
       "</div>"
      ],
      "text/plain": [
       "                      Dist_bad  Dist_good       WOE\n",
       "NAME_INCOME_TYPE                                   \n",
       "Commercial associate  0.279570   0.228878 -0.200062\n",
       "Pensioner             0.236559   0.206683 -0.135014\n",
       "Working               0.462366   0.487112  0.052139\n",
       "State servant         0.021505   0.077327  1.279740"
      ]
     },
     "execution_count": 188,
     "metadata": {},
     "output_type": "execute_result"
    }
   ],
   "source": [
    "[WOE, IV] = WOE_cal(df_labeled,\"NAME_INCOME_TYPE\")\n",
    "print(\"Information value (IV):\", IV)\n",
    "WOE.sort_values(\"WOE\")"
   ]
  },
  {
   "cell_type": "code",
   "execution_count": 189,
   "id": "60b50e5c-a1ef-41cd-82bb-a194efb617db",
   "metadata": {
    "tags": []
   },
   "outputs": [
    {
     "data": {
      "text/plain": [
       "NAME_EDUCATION_TYPE\n",
       "Secondary / secondary special    70.044361\n",
       "Higher education                 25.449451\n",
       "Incomplete higher                 3.105300\n",
       "Lower secondary                   1.354191\n",
       "Academic degree                   0.046696\n",
       "Name: proportion, dtype: float64"
      ]
     },
     "execution_count": 189,
     "metadata": {},
     "output_type": "execute_result"
    }
   ],
   "source": [
    "#Sample percentage for each type of education\n",
    "df_labeled[\"NAME_EDUCATION_TYPE\"].value_counts(normalize=True)*100"
   ]
  },
  {
   "cell_type": "code",
   "execution_count": 190,
   "id": "bacaca08-f2c1-44e9-92f1-c32d3d802dbe",
   "metadata": {
    "tags": []
   },
   "outputs": [
    {
     "data": {
      "text/plain": [
       "NAME_EDUCATION_TYPE\n",
       "Secondary/Lower      71.398552\n",
       "Higher education     25.496148\n",
       "Incomplete higher     3.105300\n",
       "Name: proportion, dtype: float64"
      ]
     },
     "execution_count": 190,
     "metadata": {},
     "output_type": "execute_result"
    }
   ],
   "source": [
    "df_labeled[\"NAME_EDUCATION_TYPE\"] = df_labeled[\"NAME_EDUCATION_TYPE\"].replace({\"Academic degree\":\"Higher education\",\"Lower secondary\":\"Secondary/Lower\",\"Secondary / secondary special\":\"Secondary/Lower\"})\n",
    "df_labeled[\"NAME_EDUCATION_TYPE\"].value_counts(normalize=True)*100"
   ]
  },
  {
   "cell_type": "code",
   "execution_count": 191,
   "id": "3a0de8a3-5a14-41ec-bef6-a238526afc82",
   "metadata": {
    "tags": []
   },
   "outputs": [
    {
     "name": "stdout",
     "output_type": "stream",
     "text": [
      "Information value (IV): 0.005586494848586235\n"
     ]
    },
    {
     "data": {
      "text/html": [
       "<div>\n",
       "<style scoped>\n",
       "    .dataframe tbody tr th:only-of-type {\n",
       "        vertical-align: middle;\n",
       "    }\n",
       "\n",
       "    .dataframe tbody tr th {\n",
       "        vertical-align: top;\n",
       "    }\n",
       "\n",
       "    .dataframe thead th {\n",
       "        text-align: right;\n",
       "    }\n",
       "</style>\n",
       "<table border=\"1\" class=\"dataframe\">\n",
       "  <thead>\n",
       "    <tr style=\"text-align: right;\">\n",
       "      <th></th>\n",
       "      <th>Dist_bad</th>\n",
       "      <th>Dist_good</th>\n",
       "      <th>WOE</th>\n",
       "    </tr>\n",
       "    <tr>\n",
       "      <th>NAME_EDUCATION_TYPE</th>\n",
       "      <th></th>\n",
       "      <th></th>\n",
       "      <th></th>\n",
       "    </tr>\n",
       "  </thead>\n",
       "  <tbody>\n",
       "    <tr>\n",
       "      <th>Incomplete higher</th>\n",
       "      <td>0.043011</td>\n",
       "      <td>0.030788</td>\n",
       "      <td>-0.334338</td>\n",
       "    </tr>\n",
       "    <tr>\n",
       "      <th>Secondary/Lower</th>\n",
       "      <td>0.720430</td>\n",
       "      <td>0.713842</td>\n",
       "      <td>-0.009186</td>\n",
       "    </tr>\n",
       "    <tr>\n",
       "      <th>Higher education</th>\n",
       "      <td>0.236559</td>\n",
       "      <td>0.255370</td>\n",
       "      <td>0.076515</td>\n",
       "    </tr>\n",
       "  </tbody>\n",
       "</table>\n",
       "</div>"
      ],
      "text/plain": [
       "                     Dist_bad  Dist_good       WOE\n",
       "NAME_EDUCATION_TYPE                               \n",
       "Incomplete higher    0.043011   0.030788 -0.334338\n",
       "Secondary/Lower      0.720430   0.713842 -0.009186\n",
       "Higher education     0.236559   0.255370  0.076515"
      ]
     },
     "execution_count": 191,
     "metadata": {},
     "output_type": "execute_result"
    }
   ],
   "source": [
    "[WOE, IV] = WOE_cal(df_labeled,\"NAME_EDUCATION_TYPE\")\n",
    "print(\"Information value (IV):\", IV)\n",
    "WOE.sort_values(\"WOE\")"
   ]
  },
  {
   "cell_type": "code",
   "execution_count": 192,
   "id": "5b669837-f708-4d47-9f62-9716f2d88e28",
   "metadata": {
    "tags": []
   },
   "outputs": [],
   "source": [
    "df_labeled = df_labeled.drop(\"NAME_EDUCATION_TYPE\", axis=1)"
   ]
  },
  {
   "cell_type": "code",
   "execution_count": 193,
   "id": "e42f962c-ba48-464f-a9f1-430f718f6e4a",
   "metadata": {
    "tags": []
   },
   "outputs": [
    {
     "data": {
      "text/plain": [
       "NAME_FAMILY_STATUS\n",
       "Married                 68.876955\n",
       "Single / not married    12.748074\n",
       "Civil marriage           8.311931\n",
       "Separated                5.603549\n",
       "Widow                    4.459491\n",
       "Name: proportion, dtype: float64"
      ]
     },
     "execution_count": 193,
     "metadata": {},
     "output_type": "execute_result"
    }
   ],
   "source": [
    "df_labeled[\"NAME_FAMILY_STATUS\"].value_counts(normalize=True)*100"
   ]
  },
  {
   "cell_type": "code",
   "execution_count": 194,
   "id": "fdcce150-171b-4b35-b64c-6e4927252601",
   "metadata": {
    "tags": []
   },
   "outputs": [
    {
     "name": "stdout",
     "output_type": "stream",
     "text": [
      "Value of information (IV): 0.07927244771187314\n"
     ]
    },
    {
     "data": {
      "text/html": [
       "<div>\n",
       "<style scoped>\n",
       "    .dataframe tbody tr th:only-of-type {\n",
       "        vertical-align: middle;\n",
       "    }\n",
       "\n",
       "    .dataframe tbody tr th {\n",
       "        vertical-align: top;\n",
       "    }\n",
       "\n",
       "    .dataframe thead th {\n",
       "        text-align: right;\n",
       "    }\n",
       "</style>\n",
       "<table border=\"1\" class=\"dataframe\">\n",
       "  <thead>\n",
       "    <tr style=\"text-align: right;\">\n",
       "      <th></th>\n",
       "      <th>Dist_bad</th>\n",
       "      <th>Dist_good</th>\n",
       "      <th>WOE</th>\n",
       "    </tr>\n",
       "    <tr>\n",
       "      <th>NAME_FAMILY_STATUS</th>\n",
       "      <th></th>\n",
       "      <th></th>\n",
       "      <th></th>\n",
       "    </tr>\n",
       "  </thead>\n",
       "  <tbody>\n",
       "    <tr>\n",
       "      <th>Widow</th>\n",
       "      <td>0.064516</td>\n",
       "      <td>0.044153</td>\n",
       "      <td>-0.379260</td>\n",
       "    </tr>\n",
       "    <tr>\n",
       "      <th>Single / not married</th>\n",
       "      <td>0.172043</td>\n",
       "      <td>0.126492</td>\n",
       "      <td>-0.307568</td>\n",
       "    </tr>\n",
       "    <tr>\n",
       "      <th>Separated</th>\n",
       "      <td>0.075269</td>\n",
       "      <td>0.055609</td>\n",
       "      <td>-0.302728</td>\n",
       "    </tr>\n",
       "    <tr>\n",
       "      <th>Married</th>\n",
       "      <td>0.655914</td>\n",
       "      <td>0.689499</td>\n",
       "      <td>0.049935</td>\n",
       "    </tr>\n",
       "    <tr>\n",
       "      <th>Civil marriage</th>\n",
       "      <td>0.032258</td>\n",
       "      <td>0.084248</td>\n",
       "      <td>0.959999</td>\n",
       "    </tr>\n",
       "  </tbody>\n",
       "</table>\n",
       "</div>"
      ],
      "text/plain": [
       "                      Dist_bad  Dist_good       WOE\n",
       "NAME_FAMILY_STATUS                                 \n",
       "Widow                 0.064516   0.044153 -0.379260\n",
       "Single / not married  0.172043   0.126492 -0.307568\n",
       "Separated             0.075269   0.055609 -0.302728\n",
       "Married               0.655914   0.689499  0.049935\n",
       "Civil marriage        0.032258   0.084248  0.959999"
      ]
     },
     "execution_count": 194,
     "metadata": {},
     "output_type": "execute_result"
    }
   ],
   "source": [
    "[WOE, IV] = WOE_cal(df_labeled,\"NAME_FAMILY_STATUS\")\n",
    "print(\"Value of information (IV):\", IV)\n",
    "WOE.sort_values(\"WOE\")"
   ]
  },
  {
   "cell_type": "code",
   "execution_count": 195,
   "id": "1615bafb-fcf9-477e-a741-d1f585f16745",
   "metadata": {
    "tags": []
   },
   "outputs": [
    {
     "data": {
      "text/plain": [
       "NAME_FAMILY_STATUS\n",
       "Married                 68.876955\n",
       "Single / not married    12.748074\n",
       "Separated/Widow         10.063040\n",
       "Civil marriage           8.311931\n",
       "Name: proportion, dtype: float64"
      ]
     },
     "execution_count": 195,
     "metadata": {},
     "output_type": "execute_result"
    }
   ],
   "source": [
    "df_labeled[\"NAME_FAMILY_STATUS\"] = df_labeled[\"NAME_FAMILY_STATUS\"].replace({\"Widow\":\"Separated/Widow\",\"Separated\":\"Separated/Widow\"})\n",
    "df_labeled[\"NAME_FAMILY_STATUS\"].value_counts(normalize=True)*100"
   ]
  },
  {
   "cell_type": "code",
   "execution_count": 196,
   "id": "4e6802ac-d5fd-4c46-b8ee-9f9855c4ff46",
   "metadata": {
    "tags": []
   },
   "outputs": [
    {
     "name": "stdout",
     "output_type": "stream",
     "text": [
      "Information value (IV): 0.07909866420747196\n"
     ]
    },
    {
     "data": {
      "text/html": [
       "<div>\n",
       "<style scoped>\n",
       "    .dataframe tbody tr th:only-of-type {\n",
       "        vertical-align: middle;\n",
       "    }\n",
       "\n",
       "    .dataframe tbody tr th {\n",
       "        vertical-align: top;\n",
       "    }\n",
       "\n",
       "    .dataframe thead th {\n",
       "        text-align: right;\n",
       "    }\n",
       "</style>\n",
       "<table border=\"1\" class=\"dataframe\">\n",
       "  <thead>\n",
       "    <tr style=\"text-align: right;\">\n",
       "      <th></th>\n",
       "      <th>Dist_bad</th>\n",
       "      <th>Dist_good</th>\n",
       "      <th>WOE</th>\n",
       "    </tr>\n",
       "    <tr>\n",
       "      <th>NAME_FAMILY_STATUS</th>\n",
       "      <th></th>\n",
       "      <th></th>\n",
       "      <th></th>\n",
       "    </tr>\n",
       "  </thead>\n",
       "  <tbody>\n",
       "    <tr>\n",
       "      <th>Separated/Widow</th>\n",
       "      <td>0.139785</td>\n",
       "      <td>0.099761</td>\n",
       "      <td>-0.337324</td>\n",
       "    </tr>\n",
       "    <tr>\n",
       "      <th>Single / not married</th>\n",
       "      <td>0.172043</td>\n",
       "      <td>0.126492</td>\n",
       "      <td>-0.307568</td>\n",
       "    </tr>\n",
       "    <tr>\n",
       "      <th>Married</th>\n",
       "      <td>0.655914</td>\n",
       "      <td>0.689499</td>\n",
       "      <td>0.049935</td>\n",
       "    </tr>\n",
       "    <tr>\n",
       "      <th>Civil marriage</th>\n",
       "      <td>0.032258</td>\n",
       "      <td>0.084248</td>\n",
       "      <td>0.959999</td>\n",
       "    </tr>\n",
       "  </tbody>\n",
       "</table>\n",
       "</div>"
      ],
      "text/plain": [
       "                      Dist_bad  Dist_good       WOE\n",
       "NAME_FAMILY_STATUS                                 \n",
       "Separated/Widow       0.139785   0.099761 -0.337324\n",
       "Single / not married  0.172043   0.126492 -0.307568\n",
       "Married               0.655914   0.689499  0.049935\n",
       "Civil marriage        0.032258   0.084248  0.959999"
      ]
     },
     "execution_count": 196,
     "metadata": {},
     "output_type": "execute_result"
    }
   ],
   "source": [
    "[WOE, IV] = WOE_cal(df_labeled,\"NAME_FAMILY_STATUS\")\n",
    "print(\"Information value (IV):\", IV)\n",
    "WOE.sort_values(\"WOE\")"
   ]
  },
  {
   "cell_type": "code",
   "execution_count": 197,
   "id": "e0597032-7e07-4663-8ab4-29d2b44c7aaa",
   "metadata": {
    "tags": []
   },
   "outputs": [
    {
     "data": {
      "text/plain": [
       "NAME_HOUSING_TYPE\n",
       "House / apartment      89.633435\n",
       "With parents            4.342750\n",
       "Municipal apartment     3.478870\n",
       "Rented apartment        1.260799\n",
       "Office apartment        0.863880\n",
       "Co-op apartment         0.420266\n",
       "Name: proportion, dtype: float64"
      ]
     },
     "execution_count": 197,
     "metadata": {},
     "output_type": "execute_result"
    }
   ],
   "source": [
    "df_labeled[\"NAME_HOUSING_TYPE\"].value_counts(normalize=True)*100"
   ]
  },
  {
   "cell_type": "code",
   "execution_count": 198,
   "id": "cdc488ec-df4a-4137-9953-463fa60be5a0",
   "metadata": {
    "tags": []
   },
   "outputs": [
    {
     "data": {
      "text/plain": [
       "NAME_HOUSING_TYPE\n",
       "House / apartment      90.917581\n",
       "With parents            4.342750\n",
       "Municipal apartment     3.478870\n",
       "Rented apartment        1.260799\n",
       "Name: proportion, dtype: float64"
      ]
     },
     "execution_count": 198,
     "metadata": {},
     "output_type": "execute_result"
    }
   ],
   "source": [
    "df_labeled[\"NAME_HOUSING_TYPE\"] = df_labeled[\"NAME_HOUSING_TYPE\"].replace({\"Co-op apartment\":\"House / apartment\",\"Office apartment\":\"House / apartment\"})\n",
    "df_labeled[\"NAME_HOUSING_TYPE\"].value_counts(normalize=True)*100"
   ]
  },
  {
   "cell_type": "code",
   "execution_count": 199,
   "id": "85e03816-915d-4626-af6d-cba36bc71deb",
   "metadata": {
    "tags": []
   },
   "outputs": [
    {
     "name": "stdout",
     "output_type": "stream",
     "text": [
      "Information value (IV): 0.004243038632810376\n"
     ]
    },
    {
     "data": {
      "text/html": [
       "<div>\n",
       "<style scoped>\n",
       "    .dataframe tbody tr th:only-of-type {\n",
       "        vertical-align: middle;\n",
       "    }\n",
       "\n",
       "    .dataframe tbody tr th {\n",
       "        vertical-align: top;\n",
       "    }\n",
       "\n",
       "    .dataframe thead th {\n",
       "        text-align: right;\n",
       "    }\n",
       "</style>\n",
       "<table border=\"1\" class=\"dataframe\">\n",
       "  <thead>\n",
       "    <tr style=\"text-align: right;\">\n",
       "      <th></th>\n",
       "      <th>Dist_bad</th>\n",
       "      <th>Dist_good</th>\n",
       "      <th>WOE</th>\n",
       "    </tr>\n",
       "    <tr>\n",
       "      <th>NAME_HOUSING_TYPE</th>\n",
       "      <th></th>\n",
       "      <th></th>\n",
       "      <th></th>\n",
       "    </tr>\n",
       "  </thead>\n",
       "  <tbody>\n",
       "    <tr>\n",
       "      <th>House / apartment</th>\n",
       "      <td>0.924731</td>\n",
       "      <td>0.908831</td>\n",
       "      <td>-0.017344</td>\n",
       "    </tr>\n",
       "    <tr>\n",
       "      <th>Municipal apartment</th>\n",
       "      <td>0.032258</td>\n",
       "      <td>0.034845</td>\n",
       "      <td>0.077138</td>\n",
       "    </tr>\n",
       "    <tr>\n",
       "      <th>Rented apartment</th>\n",
       "      <td>0.010753</td>\n",
       "      <td>0.012649</td>\n",
       "      <td>0.162435</td>\n",
       "    </tr>\n",
       "    <tr>\n",
       "      <th>With parents</th>\n",
       "      <td>0.032258</td>\n",
       "      <td>0.043675</td>\n",
       "      <td>0.303017</td>\n",
       "    </tr>\n",
       "  </tbody>\n",
       "</table>\n",
       "</div>"
      ],
      "text/plain": [
       "                     Dist_bad  Dist_good       WOE\n",
       "NAME_HOUSING_TYPE                                 \n",
       "House / apartment    0.924731   0.908831 -0.017344\n",
       "Municipal apartment  0.032258   0.034845  0.077138\n",
       "Rented apartment     0.010753   0.012649  0.162435\n",
       "With parents         0.032258   0.043675  0.303017"
      ]
     },
     "execution_count": 199,
     "metadata": {},
     "output_type": "execute_result"
    }
   ],
   "source": [
    "# Compute WOE\n",
    "[WOE, IV] = WOE_cal(df_labeled,\"NAME_HOUSING_TYPE\")\n",
    "print(\"Information value (IV):\", IV)\n",
    "WOE.sort_values(\"WOE\")"
   ]
  },
  {
   "cell_type": "code",
   "execution_count": 200,
   "id": "2f78beb2-4317-4234-8127-b3795c63d6a2",
   "metadata": {
    "tags": []
   },
   "outputs": [],
   "source": [
    "# Remove NAME_HOUSING_TYPE since the IV is so low.\n",
    "df_labeled = df_labeled.drop(\"NAME_HOUSING_TYPE\", axis=1)"
   ]
  },
  {
   "cell_type": "code",
   "execution_count": 201,
   "id": "93db379b-a251-4998-890a-62a1b67b43a4",
   "metadata": {
    "tags": []
   },
   "outputs": [
    {
     "data": {
      "text/plain": [
       "OCCUPATION_TYPE\n",
       "Pensioner                20.733131\n",
       "Laborers                 20.429605\n",
       "Sales staff              10.506654\n",
       "Core staff               10.389914\n",
       "Managers                  9.502685\n",
       "Drivers                   7.658184\n",
       "High skill tech staff     4.482839\n",
       "Accountants               3.689003\n",
       "Medicine staff            3.572262\n",
       "Security staff            2.077983\n",
       "Cooking staff             1.937894\n",
       "Cleaning staff            1.751109\n",
       "Private service staff     0.887229\n",
       "Low-skill Laborers        0.723792\n",
       "Secretaries               0.583703\n",
       "Waiters/barmen staff      0.490311\n",
       "HR staff                  0.256829\n",
       "IT staff                  0.186785\n",
       "Realty agents             0.140089\n",
       "Name: proportion, dtype: float64"
      ]
     },
     "execution_count": 201,
     "metadata": {},
     "output_type": "execute_result"
    }
   ],
   "source": [
    "df_labeled[\"OCCUPATION_TYPE\"].value_counts(normalize=True)*100"
   ]
  },
  {
   "cell_type": "code",
   "execution_count": 202,
   "id": "991e6d0d-7668-41a2-b840-4a41e7520d8e",
   "metadata": {
    "tags": []
   },
   "outputs": [],
   "source": [
    "df_labeled = df_labeled[~df_labeled[\"OCCUPATION_TYPE\"].isin([\"Private service staff\",\"Low-skill Laborers\",\"Secretaries\",\"Waiters/barmen staff\",\"HR staff\",\"IT staff\",\"Realty agents\"])]"
   ]
  },
  {
   "cell_type": "code",
   "execution_count": 203,
   "id": "228719d2-c542-4db1-9d94-03799810452a",
   "metadata": {
    "tags": []
   },
   "outputs": [
    {
     "name": "stdout",
     "output_type": "stream",
     "text": [
      "Information value (IV): 0.08176213036065198\n"
     ]
    },
    {
     "data": {
      "text/html": [
       "<div>\n",
       "<style scoped>\n",
       "    .dataframe tbody tr th:only-of-type {\n",
       "        vertical-align: middle;\n",
       "    }\n",
       "\n",
       "    .dataframe tbody tr th {\n",
       "        vertical-align: top;\n",
       "    }\n",
       "\n",
       "    .dataframe thead th {\n",
       "        text-align: right;\n",
       "    }\n",
       "</style>\n",
       "<table border=\"1\" class=\"dataframe\">\n",
       "  <thead>\n",
       "    <tr style=\"text-align: right;\">\n",
       "      <th></th>\n",
       "      <th>Dist_bad</th>\n",
       "      <th>Dist_good</th>\n",
       "      <th>WOE</th>\n",
       "    </tr>\n",
       "    <tr>\n",
       "      <th>OCCUPATION_TYPE</th>\n",
       "      <th></th>\n",
       "      <th></th>\n",
       "      <th></th>\n",
       "    </tr>\n",
       "  </thead>\n",
       "  <tbody>\n",
       "    <tr>\n",
       "      <th>Security staff</th>\n",
       "      <td>0.044944</td>\n",
       "      <td>0.020967</td>\n",
       "      <td>-0.762466</td>\n",
       "    </tr>\n",
       "    <tr>\n",
       "      <th>High skill tech staff</th>\n",
       "      <td>0.067416</td>\n",
       "      <td>0.045881</td>\n",
       "      <td>-0.384836</td>\n",
       "    </tr>\n",
       "    <tr>\n",
       "      <th>Cleaning staff</th>\n",
       "      <td>0.022472</td>\n",
       "      <td>0.018007</td>\n",
       "      <td>-0.221511</td>\n",
       "    </tr>\n",
       "    <tr>\n",
       "      <th>Medicine staff</th>\n",
       "      <td>0.044944</td>\n",
       "      <td>0.036754</td>\n",
       "      <td>-0.201171</td>\n",
       "    </tr>\n",
       "    <tr>\n",
       "      <th>Pensioner</th>\n",
       "      <td>0.247191</td>\n",
       "      <td>0.213616</td>\n",
       "      <td>-0.145981</td>\n",
       "    </tr>\n",
       "    <tr>\n",
       "      <th>Cooking staff</th>\n",
       "      <td>0.022472</td>\n",
       "      <td>0.019980</td>\n",
       "      <td>-0.117521</td>\n",
       "    </tr>\n",
       "    <tr>\n",
       "      <th>Managers</th>\n",
       "      <td>0.101124</td>\n",
       "      <td>0.098175</td>\n",
       "      <td>-0.029596</td>\n",
       "    </tr>\n",
       "    <tr>\n",
       "      <th>Laborers</th>\n",
       "      <td>0.202247</td>\n",
       "      <td>0.211396</td>\n",
       "      <td>0.044243</td>\n",
       "    </tr>\n",
       "    <tr>\n",
       "      <th>Core staff</th>\n",
       "      <td>0.101124</td>\n",
       "      <td>0.107548</td>\n",
       "      <td>0.061595</td>\n",
       "    </tr>\n",
       "    <tr>\n",
       "      <th>Drivers</th>\n",
       "      <td>0.067416</td>\n",
       "      <td>0.079428</td>\n",
       "      <td>0.163969</td>\n",
       "    </tr>\n",
       "    <tr>\n",
       "      <th>Accountants</th>\n",
       "      <td>0.022472</td>\n",
       "      <td>0.038481</td>\n",
       "      <td>0.537886</td>\n",
       "    </tr>\n",
       "    <tr>\n",
       "      <th>Sales staff</th>\n",
       "      <td>0.056180</td>\n",
       "      <td>0.109768</td>\n",
       "      <td>0.669813</td>\n",
       "    </tr>\n",
       "  </tbody>\n",
       "</table>\n",
       "</div>"
      ],
      "text/plain": [
       "                       Dist_bad  Dist_good       WOE\n",
       "OCCUPATION_TYPE                                     \n",
       "Security staff         0.044944   0.020967 -0.762466\n",
       "High skill tech staff  0.067416   0.045881 -0.384836\n",
       "Cleaning staff         0.022472   0.018007 -0.221511\n",
       "Medicine staff         0.044944   0.036754 -0.201171\n",
       "Pensioner              0.247191   0.213616 -0.145981\n",
       "Cooking staff          0.022472   0.019980 -0.117521\n",
       "Managers               0.101124   0.098175 -0.029596\n",
       "Laborers               0.202247   0.211396  0.044243\n",
       "Core staff             0.101124   0.107548  0.061595\n",
       "Drivers                0.067416   0.079428  0.163969\n",
       "Accountants            0.022472   0.038481  0.537886\n",
       "Sales staff            0.056180   0.109768  0.669813"
      ]
     },
     "execution_count": 203,
     "metadata": {},
     "output_type": "execute_result"
    }
   ],
   "source": [
    "# Compute WOE\n",
    "[WOE, IV] = WOE_cal(df_labeled,\"OCCUPATION_TYPE\")\n",
    "print(\"Information value (IV):\", IV)\n",
    "WOE.sort_values(\"WOE\")"
   ]
  },
  {
   "cell_type": "code",
   "execution_count": 204,
   "id": "3609fc7a-23ab-40ce-b3ce-be4379ab4d3b",
   "metadata": {
    "tags": []
   },
   "outputs": [
    {
     "data": {
      "text/plain": [
       "OCCUPATION_TYPE\n",
       "G5    41.684769\n",
       "G4    23.437123\n",
       "G8    10.861694\n",
       "G6     7.916968\n",
       "G3     5.503259\n",
       "G2     4.634323\n",
       "G7     3.813662\n",
       "G1     2.148202\n",
       "Name: proportion, dtype: float64"
      ]
     },
     "execution_count": 204,
     "metadata": {},
     "output_type": "execute_result"
    }
   ],
   "source": [
    "# COALITION BY WOE SCORE\n",
    "df_labeled['OCCUPATION_TYPE'] = df_labeled['OCCUPATION_TYPE'].replace({\"Security staff\":\"G1\"})\n",
    "df_labeled['OCCUPATION_TYPE'] = df_labeled['OCCUPATION_TYPE'].replace({\"High skill tech staff\":\"G2\"})\n",
    "df_labeled['OCCUPATION_TYPE'] = df_labeled['OCCUPATION_TYPE'].replace({\"Cleaning staff\":\"G3\",\"Medicine staff\":\"G3\"})\n",
    "df_labeled['OCCUPATION_TYPE'] = df_labeled['OCCUPATION_TYPE'].replace({\"Pensioner\":\"G4\",\"Cooking staff\":\"G4\"})\n",
    "df_labeled['OCCUPATION_TYPE'] = df_labeled['OCCUPATION_TYPE'].replace({\"Managers\":\"G5\",\"Laborers\":\"G5\",\"Core staff\":\"G5\"})\n",
    "df_labeled['OCCUPATION_TYPE'] = df_labeled['OCCUPATION_TYPE'].replace({\"Drivers\":\"G6\"})\n",
    "df_labeled['OCCUPATION_TYPE'] = df_labeled['OCCUPATION_TYPE'].replace({\"Accountants\":\"G7\"})\n",
    "df_labeled['OCCUPATION_TYPE'] = df_labeled['OCCUPATION_TYPE'].replace({\"Sales staff\":\"G8\"})\n",
    "\n",
    "df_labeled['OCCUPATION_TYPE'].value_counts(normalize=True)*100"
   ]
  },
  {
   "cell_type": "code",
   "execution_count": 205,
   "id": "0f86b370-1cc6-42f0-804c-96bfa702ad2a",
   "metadata": {
    "tags": []
   },
   "outputs": [
    {
     "name": "stdout",
     "output_type": "stream",
     "text": [
      "Value of information (IV): 0.08124100714762295\n"
     ]
    },
    {
     "data": {
      "text/html": [
       "<div>\n",
       "<style scoped>\n",
       "    .dataframe tbody tr th:only-of-type {\n",
       "        vertical-align: middle;\n",
       "    }\n",
       "\n",
       "    .dataframe tbody tr th {\n",
       "        vertical-align: top;\n",
       "    }\n",
       "\n",
       "    .dataframe thead th {\n",
       "        text-align: right;\n",
       "    }\n",
       "</style>\n",
       "<table border=\"1\" class=\"dataframe\">\n",
       "  <thead>\n",
       "    <tr style=\"text-align: right;\">\n",
       "      <th></th>\n",
       "      <th>Dist_bad</th>\n",
       "      <th>Dist_good</th>\n",
       "      <th>WOE</th>\n",
       "    </tr>\n",
       "    <tr>\n",
       "      <th>OCCUPATION_TYPE</th>\n",
       "      <th></th>\n",
       "      <th></th>\n",
       "      <th></th>\n",
       "    </tr>\n",
       "  </thead>\n",
       "  <tbody>\n",
       "    <tr>\n",
       "      <th>G1</th>\n",
       "      <td>0.044944</td>\n",
       "      <td>0.020967</td>\n",
       "      <td>-0.762466</td>\n",
       "    </tr>\n",
       "    <tr>\n",
       "      <th>G2</th>\n",
       "      <td>0.067416</td>\n",
       "      <td>0.045881</td>\n",
       "      <td>-0.384836</td>\n",
       "    </tr>\n",
       "    <tr>\n",
       "      <th>G3</th>\n",
       "      <td>0.067416</td>\n",
       "      <td>0.054761</td>\n",
       "      <td>-0.207905</td>\n",
       "    </tr>\n",
       "    <tr>\n",
       "      <th>G4</th>\n",
       "      <td>0.269663</td>\n",
       "      <td>0.233596</td>\n",
       "      <td>-0.143578</td>\n",
       "    </tr>\n",
       "    <tr>\n",
       "      <th>G5</th>\n",
       "      <td>0.404494</td>\n",
       "      <td>0.417119</td>\n",
       "      <td>0.030733</td>\n",
       "    </tr>\n",
       "    <tr>\n",
       "      <th>G6</th>\n",
       "      <td>0.067416</td>\n",
       "      <td>0.079428</td>\n",
       "      <td>0.163969</td>\n",
       "    </tr>\n",
       "    <tr>\n",
       "      <th>G7</th>\n",
       "      <td>0.022472</td>\n",
       "      <td>0.038481</td>\n",
       "      <td>0.537886</td>\n",
       "    </tr>\n",
       "    <tr>\n",
       "      <th>G8</th>\n",
       "      <td>0.056180</td>\n",
       "      <td>0.109768</td>\n",
       "      <td>0.669813</td>\n",
       "    </tr>\n",
       "  </tbody>\n",
       "</table>\n",
       "</div>"
      ],
      "text/plain": [
       "                 Dist_bad  Dist_good       WOE\n",
       "OCCUPATION_TYPE                               \n",
       "G1               0.044944   0.020967 -0.762466\n",
       "G2               0.067416   0.045881 -0.384836\n",
       "G3               0.067416   0.054761 -0.207905\n",
       "G4               0.269663   0.233596 -0.143578\n",
       "G5               0.404494   0.417119  0.030733\n",
       "G6               0.067416   0.079428  0.163969\n",
       "G7               0.022472   0.038481  0.537886\n",
       "G8               0.056180   0.109768  0.669813"
      ]
     },
     "execution_count": 205,
     "metadata": {},
     "output_type": "execute_result"
    }
   ],
   "source": [
    "[WOE, IV] = WOE_cal(df_labeled,\"OCCUPATION_TYPE\")\n",
    "print(\"Value of information (IV):\", IV)\n",
    "WOE.sort_values(\"WOE\")"
   ]
  },
  {
   "cell_type": "code",
   "execution_count": 206,
   "id": "093ebbdf-90f7-4afd-bf58-396409269d96",
   "metadata": {
    "tags": []
   },
   "outputs": [
    {
     "data": {
      "text/plain": [
       "Text(0.5, 1.0, 'Number of family member')"
      ]
     },
     "execution_count": 206,
     "metadata": {},
     "output_type": "execute_result"
    },
    {
     "data": {
      "image/png": "[encoded data removed]",
      "text/plain": [
       "<Figure size 2200x800 with 2 Axes>"
      ]
     },
     "metadata": {},
     "output_type": "display_data"
    }
   ],
   "source": [
    "fig, ax = plt.subplots(1, 2, figsize = (22,8))\n",
    "cplot = sns.countplot(data=df_labeled, x=\"CNT_CHILDREN\", ax=ax[0],color='tab:Blue')\n",
    "for container in cplot.containers:\n",
    "    cplot.bar_label(container)\n",
    "ax[0].set_title('Number of children')    \n",
    "    \n",
    "cplot = sns.countplot(data=df_labeled, x=\"CNT_FAM_MEMBERS\", ax=ax[1],color='tab:Blue')\n",
    "for container in cplot.containers:\n",
    "    cplot.bar_label(container)\n",
    "ax[1].set_title('Number of family member') "
   ]
  },
  {
   "cell_type": "code",
   "execution_count": 207,
   "id": "56001ce7-6f48-47f9-a571-fea6b221ee43",
   "metadata": {
    "tags": []
   },
   "outputs": [
    {
     "data": {
      "text/plain": [
       "Text(0.5, 1.0, 'A chart showing the number of children and family members')"
      ]
     },
     "execution_count": 207,
     "metadata": {},
     "output_type": "execute_result"
    },
    {
     "data": {
      "image/png": "[encoded data removed]",
      "text/plain": [
       "<Figure size 640x480 with 1 Axes>"
      ]
     },
     "metadata": {},
     "output_type": "display_data"
    }
   ],
   "source": [
    "sns.scatterplot(data=df_labeled, x=\"CNT_FAM_MEMBERS\",y=\"CNT_CHILDREN\")\n",
    "plt.title('A chart showing the number of children and family members')"
   ]
  },
  {
   "cell_type": "code",
   "execution_count": 208,
   "id": "813bf917-dae6-4806-a38a-96a942f91034",
   "metadata": {
    "tags": []
   },
   "outputs": [
    {
     "data": {
      "text/html": [
       "<div>\n",
       "<style scoped>\n",
       "    .dataframe tbody tr th:only-of-type {\n",
       "        vertical-align: middle;\n",
       "    }\n",
       "\n",
       "    .dataframe tbody tr th {\n",
       "        vertical-align: top;\n",
       "    }\n",
       "\n",
       "    .dataframe thead th {\n",
       "        text-align: right;\n",
       "    }\n",
       "</style>\n",
       "<table border=\"1\" class=\"dataframe\">\n",
       "  <thead>\n",
       "    <tr style=\"text-align: right;\">\n",
       "      <th></th>\n",
       "      <th>CNT_CHILDREN</th>\n",
       "      <th>CNT_FAM_MEMBERS</th>\n",
       "    </tr>\n",
       "  </thead>\n",
       "  <tbody>\n",
       "    <tr>\n",
       "      <th>CNT_CHILDREN</th>\n",
       "      <td>1.000000</td>\n",
       "      <td>0.882908</td>\n",
       "    </tr>\n",
       "    <tr>\n",
       "      <th>CNT_FAM_MEMBERS</th>\n",
       "      <td>0.882908</td>\n",
       "      <td>1.000000</td>\n",
       "    </tr>\n",
       "  </tbody>\n",
       "</table>\n",
       "</div>"
      ],
      "text/plain": [
       "                 CNT_CHILDREN  CNT_FAM_MEMBERS\n",
       "CNT_CHILDREN         1.000000         0.882908\n",
       "CNT_FAM_MEMBERS      0.882908         1.000000"
      ]
     },
     "execution_count": 208,
     "metadata": {},
     "output_type": "execute_result"
    }
   ],
   "source": [
    "df_labeled[[\"CNT_CHILDREN\",\"CNT_FAM_MEMBERS\"]].corr()"
   ]
  },
  {
   "cell_type": "code",
   "execution_count": 209,
   "id": "7054edfa-c902-4091-9245-e504339e0a2c",
   "metadata": {
    "tags": []
   },
   "outputs": [],
   "source": [
    "df_labeled = df_labeled.drop(\"CNT_CHILDREN\",axis=1)"
   ]
  },
  {
   "cell_type": "code",
   "execution_count": 210,
   "id": "cf516855-979e-4d73-a4bd-6e4c28e60ab0",
   "metadata": {
    "tags": []
   },
   "outputs": [
    {
     "data": {
      "text/plain": [
       "CNT_FAM_MEMBERS\n",
       "2.0    54.622254\n",
       "1.0    19.092445\n",
       "3.0    16.727009\n",
       "4.0     8.254888\n",
       "5.0     1.134444\n",
       "6.0     0.120685\n",
       "9.0     0.024137\n",
       "7.0     0.024137\n",
       "Name: proportion, dtype: float64"
      ]
     },
     "execution_count": 210,
     "metadata": {},
     "output_type": "execute_result"
    }
   ],
   "source": [
    "df_labeled[\"CNT_FAM_MEMBERS\"].value_counts(normalize=True)*100"
   ]
  },
  {
   "cell_type": "code",
   "execution_count": 211,
   "id": "ecab3fc2-f1a4-4ad8-af62-fe31c79ad333",
   "metadata": {
    "tags": []
   },
   "outputs": [
    {
     "name": "stdout",
     "output_type": "stream",
     "text": [
      "Value of Information(IV): inf\n"
     ]
    },
    {
     "data": {
      "text/html": [
       "<div>\n",
       "<style scoped>\n",
       "    .dataframe tbody tr th:only-of-type {\n",
       "        vertical-align: middle;\n",
       "    }\n",
       "\n",
       "    .dataframe tbody tr th {\n",
       "        vertical-align: top;\n",
       "    }\n",
       "\n",
       "    .dataframe thead th {\n",
       "        text-align: right;\n",
       "    }\n",
       "</style>\n",
       "<table border=\"1\" class=\"dataframe\">\n",
       "  <thead>\n",
       "    <tr style=\"text-align: right;\">\n",
       "      <th></th>\n",
       "      <th>Dist_bad</th>\n",
       "      <th>Dist_good</th>\n",
       "      <th>WOE</th>\n",
       "    </tr>\n",
       "    <tr>\n",
       "      <th>CNT_FAM_MEMBERS</th>\n",
       "      <th></th>\n",
       "      <th></th>\n",
       "      <th></th>\n",
       "    </tr>\n",
       "  </thead>\n",
       "  <tbody>\n",
       "    <tr>\n",
       "      <th>5.0</th>\n",
       "      <td>0.022472</td>\n",
       "      <td>0.011100</td>\n",
       "      <td>-0.705308</td>\n",
       "    </tr>\n",
       "    <tr>\n",
       "      <th>1.0</th>\n",
       "      <td>0.269663</td>\n",
       "      <td>0.189196</td>\n",
       "      <td>-0.354390</td>\n",
       "    </tr>\n",
       "    <tr>\n",
       "      <th>3.0</th>\n",
       "      <td>0.168539</td>\n",
       "      <td>0.167242</td>\n",
       "      <td>-0.007726</td>\n",
       "    </tr>\n",
       "    <tr>\n",
       "      <th>2.0</th>\n",
       "      <td>0.494382</td>\n",
       "      <td>0.547361</td>\n",
       "      <td>0.101799</td>\n",
       "    </tr>\n",
       "    <tr>\n",
       "      <th>4.0</th>\n",
       "      <td>0.044944</td>\n",
       "      <td>0.083374</td>\n",
       "      <td>0.617929</td>\n",
       "    </tr>\n",
       "    <tr>\n",
       "      <th>6.0</th>\n",
       "      <td>0.000000</td>\n",
       "      <td>0.001233</td>\n",
       "      <td>inf</td>\n",
       "    </tr>\n",
       "    <tr>\n",
       "      <th>7.0</th>\n",
       "      <td>0.000000</td>\n",
       "      <td>0.000247</td>\n",
       "      <td>inf</td>\n",
       "    </tr>\n",
       "    <tr>\n",
       "      <th>9.0</th>\n",
       "      <td>0.000000</td>\n",
       "      <td>0.000247</td>\n",
       "      <td>inf</td>\n",
       "    </tr>\n",
       "  </tbody>\n",
       "</table>\n",
       "</div>"
      ],
      "text/plain": [
       "                 Dist_bad  Dist_good       WOE\n",
       "CNT_FAM_MEMBERS                               \n",
       "5.0              0.022472   0.011100 -0.705308\n",
       "1.0              0.269663   0.189196 -0.354390\n",
       "3.0              0.168539   0.167242 -0.007726\n",
       "2.0              0.494382   0.547361  0.101799\n",
       "4.0              0.044944   0.083374  0.617929\n",
       "6.0              0.000000   0.001233       inf\n",
       "7.0              0.000000   0.000247       inf\n",
       "9.0              0.000000   0.000247       inf"
      ]
     },
     "execution_count": 211,
     "metadata": {},
     "output_type": "execute_result"
    }
   ],
   "source": [
    "[WOE, IV] = WOE_cal(df_labeled,\"CNT_FAM_MEMBERS\")\n",
    "print(\"Value of Information(IV):\", IV)\n",
    "WOE.sort_values(\"WOE\")"
   ]
  },
  {
   "cell_type": "code",
   "execution_count": 212,
   "id": "346f738a-b070-4499-a0ca-2c7ae4592db3",
   "metadata": {
    "tags": []
   },
   "outputs": [],
   "source": [
    "def gen_bin_fam(df):\n",
    "    # return group assigned for bin size = binSize\n",
    "    # assign data > binOver to the last group\n",
    "    binSize = 1\n",
    "    binOver = 5\n",
    "    if df < binOver:\n",
    "        return str(math.ceil(df/binSize))\n",
    "    else:\n",
    "        return str(math.ceil(binOver/binSize))"
   ]
  },
  {
   "cell_type": "code",
   "execution_count": 213,
   "id": "45b11d7a-e76a-4bcd-8cb0-a116716ba546",
   "metadata": {
    "tags": []
   },
   "outputs": [],
   "source": [
    "df_labeled[\"FAM_GROUP\"] = df_labeled[\"CNT_FAM_MEMBERS\"].apply(gen_bin_fam)\n",
    "df_labeled[\"FAM_GROUP\"] = df_labeled[\"FAM_GROUP\"].astype('object')"
   ]
  },
  {
   "cell_type": "code",
   "execution_count": 214,
   "id": "5c8e7026-d4e6-455e-bc43-ae258dba2d62",
   "metadata": {
    "tags": []
   },
   "outputs": [],
   "source": [
    "df_labeled= df_labeled.drop(\"CNT_FAM_MEMBERS\",axis=1)"
   ]
  },
  {
   "cell_type": "code",
   "execution_count": 215,
   "id": "3669b3ac-19a2-4829-92dc-9dc69d4bbb78",
   "metadata": {
    "tags": []
   },
   "outputs": [
    {
     "data": {
      "text/plain": [
       "Text(0.5, 1.0, \"Each group's percentage of unsatisfied customers\")"
      ]
     },
     "execution_count": 215,
     "metadata": {},
     "output_type": "execute_result"
    },
    {
     "data": {
      "image/png": "[encoded data removed]",
      "text/plain": [
       "<Figure size 1000x400 with 2 Axes>"
      ]
     },
     "metadata": {},
     "output_type": "display_data"
    }
   ],
   "source": [
    "fig, ax = plt.subplots(1, 2, figsize = (10,4))\n",
    "RowPlot = \"FAM_GROUP\"\n",
    "sns.countplot(data=df_labeled, x=RowPlot,ax=ax[0],order=['1','2','3','4','5'])\n",
    "ax[0].set_title(\"Number of customers in each category\")\n",
    "\n",
    "df_fam_percent_bad = df_labeled[[RowPlot,\"Bad_Customer\"]].groupby(RowPlot,as_index=False).mean()\n",
    "df_fam_percent_bad[\"Bad_Customer\"] = df_fam_percent_bad[\"Bad_Customer\"]*100\n",
    "sns.barplot(data=df_fam_percent_bad, x=RowPlot, y=\"Bad_Customer\", ax=ax[1])\n",
    "plt.ylabel(\"Amount of Unsatisfied Customers\")\n",
    "ax[1].set_title(\"Each group's percentage of unsatisfied customers\")"
   ]
  },
  {
   "cell_type": "markdown",
   "id": "3cbeac2f",
   "metadata": {},
   "source": [
    "Research question:\"How can machine learning algorithms be effectively utilized to predict credit card approval based on customer attributes and financial behavior?\""
   ]
  },
  {
   "cell_type": "code",
   "execution_count": 216,
   "id": "ec5e9f99-d37a-46eb-9e0e-1455b9950de3",
   "metadata": {
    "tags": []
   },
   "outputs": [
    {
     "name": "stdout",
     "output_type": "stream",
     "text": [
      "Value of Information (IV): 0.06307555859223359\n"
     ]
    },
    {
     "data": {
      "text/html": [
       "<div>\n",
       "<style scoped>\n",
       "    .dataframe tbody tr th:only-of-type {\n",
       "        vertical-align: middle;\n",
       "    }\n",
       "\n",
       "    .dataframe tbody tr th {\n",
       "        vertical-align: top;\n",
       "    }\n",
       "\n",
       "    .dataframe thead th {\n",
       "        text-align: right;\n",
       "    }\n",
       "</style>\n",
       "<table border=\"1\" class=\"dataframe\">\n",
       "  <thead>\n",
       "    <tr style=\"text-align: right;\">\n",
       "      <th></th>\n",
       "      <th>Dist_bad</th>\n",
       "      <th>Dist_good</th>\n",
       "      <th>WOE</th>\n",
       "    </tr>\n",
       "    <tr>\n",
       "      <th>FAM_GROUP</th>\n",
       "      <th></th>\n",
       "      <th></th>\n",
       "      <th></th>\n",
       "    </tr>\n",
       "  </thead>\n",
       "  <tbody>\n",
       "    <tr>\n",
       "      <th>5</th>\n",
       "      <td>0.022472</td>\n",
       "      <td>0.012827</td>\n",
       "      <td>-0.560726</td>\n",
       "    </tr>\n",
       "    <tr>\n",
       "      <th>1</th>\n",
       "      <td>0.269663</td>\n",
       "      <td>0.189196</td>\n",
       "      <td>-0.354390</td>\n",
       "    </tr>\n",
       "    <tr>\n",
       "      <th>3</th>\n",
       "      <td>0.168539</td>\n",
       "      <td>0.167242</td>\n",
       "      <td>-0.007726</td>\n",
       "    </tr>\n",
       "    <tr>\n",
       "      <th>2</th>\n",
       "      <td>0.494382</td>\n",
       "      <td>0.547361</td>\n",
       "      <td>0.101799</td>\n",
       "    </tr>\n",
       "    <tr>\n",
       "      <th>4</th>\n",
       "      <td>0.044944</td>\n",
       "      <td>0.083374</td>\n",
       "      <td>0.617929</td>\n",
       "    </tr>\n",
       "  </tbody>\n",
       "</table>\n",
       "</div>"
      ],
      "text/plain": [
       "           Dist_bad  Dist_good       WOE\n",
       "FAM_GROUP                               \n",
       "5          0.022472   0.012827 -0.560726\n",
       "1          0.269663   0.189196 -0.354390\n",
       "3          0.168539   0.167242 -0.007726\n",
       "2          0.494382   0.547361  0.101799\n",
       "4          0.044944   0.083374  0.617929"
      ]
     },
     "execution_count": 216,
     "metadata": {},
     "output_type": "execute_result"
    }
   ],
   "source": [
    "[WOE, IV] = WOE_cal(df_labeled,\"FAM_GROUP\")\n",
    "print(\"Value of Information (IV):\", IV)\n",
    "WOE.sort_values(\"WOE\")"
   ]
  },
  {
   "cell_type": "code",
   "execution_count": 217,
   "id": "fc2e363c-2693-4ea9-91a1-51d411340fc7",
   "metadata": {
    "tags": []
   },
   "outputs": [
    {
     "data": {
      "text/plain": [
       "<Axes: xlabel='AGE', ylabel='Count'>"
      ]
     },
     "execution_count": 217,
     "metadata": {},
     "output_type": "execute_result"
    },
    {
     "data": {
      "image/png": "[encoded data removed]",
      "text/plain": [
       "<Figure size 640x480 with 1 Axes>"
      ]
     },
     "metadata": {},
     "output_type": "display_data"
    }
   ],
   "source": [
    "sns.histplot(data=df_labeled, x=\"AGE\",bins=15)"
   ]
  },
  {
   "cell_type": "code",
   "execution_count": 218,
   "id": "29d923e1-36e3-433d-8678-44a09d845953",
   "metadata": {
    "tags": []
   },
   "outputs": [],
   "source": [
    "def gen_bin_age(df):\n",
    "   #assigned return group for bin size = binSize\n",
    "    # Assign data to the last group > binOver \n",
    "    binSize = 5\n",
    "    binOver = 65\n",
    "    binMin = 25\n",
    "    if df <= binMin:\n",
    "        return str(1)\n",
    "    elif df <= binOver:\n",
    "        return str(math.ceil((df-binMin)/binSize))\n",
    "    else:\n",
    "        return str(math.ceil((binOver-binMin)/binSize))"
   ]
  },
  {
   "cell_type": "code",
   "execution_count": 219,
   "id": "fea26cc0-448b-4bb9-865a-812ceb86454e",
   "metadata": {
    "tags": []
   },
   "outputs": [],
   "source": [
    "df_labeled[\"AGE_GROUP\"] = df_labeled[\"AGE\"].apply(gen_bin_age)\n",
    "df_labeled[\"AGE_GROUP\"] = df_labeled[\"AGE_GROUP\"].astype('object')"
   ]
  },
  {
   "cell_type": "code",
   "execution_count": 220,
   "id": "77a7e5d9-12c0-4b14-9742-228b806ce4ed",
   "metadata": {
    "tags": []
   },
   "outputs": [],
   "source": [
    "df_labeled= df_labeled.drop(\"AGE\",axis=1)"
   ]
  },
  {
   "cell_type": "code",
   "execution_count": 221,
   "id": "512c3158-c9d9-40fd-8a9d-79a35e3efaae",
   "metadata": {
    "tags": []
   },
   "outputs": [
    {
     "data": {
      "text/plain": [
       "Text(0.5, 1.0, 'Percentage of Bad Customer in each group')"
      ]
     },
     "execution_count": 221,
     "metadata": {},
     "output_type": "execute_result"
    },
    {
     "data": {
      "image/png": "[encoded data removed]",
      "text/plain": [
       "<Figure size 1000x400 with 2 Axes>"
      ]
     },
     "metadata": {},
     "output_type": "display_data"
    }
   ],
   "source": [
    "fig, ax = plt.subplots(1, 2, figsize = (10,4))\n",
    "RowPlot = \"AGE_GROUP\"\n",
    "sns.countplot(data=df_labeled, x=RowPlot,ax=ax[0],order=map(str,range(1,9)))\n",
    "ax[0].set_title(\"Amount of customer in each group\")\n",
    "\n",
    "df_fam_percent_bad = df_labeled[[RowPlot,\"Bad_Customer\"]].groupby(RowPlot,as_index=False).mean()\n",
    "df_fam_percent_bad[\"Bad_Customer\"] = df_fam_percent_bad[\"Bad_Customer\"]*100\n",
    "sns.barplot(data=df_fam_percent_bad, x=RowPlot, y=\"Bad_Customer\", ax=ax[1],order=map(str,range(1,9)))\n",
    "plt.ylabel(\"Percentage of Bad Customer\")\n",
    "ax[1].set_title(\"Percentage of Bad Customer in each group\")"
   ]
  },
  {
   "cell_type": "code",
   "execution_count": 222,
   "id": "f57f7143-43a8-4efa-a18e-c9def7c7c165",
   "metadata": {
    "tags": []
   },
   "outputs": [
    {
     "name": "stdout",
     "output_type": "stream",
     "text": [
      "Value of Information (IV): 0.11762678798419732\n"
     ]
    },
    {
     "data": {
      "text/html": [
       "<div>\n",
       "<style scoped>\n",
       "    .dataframe tbody tr th:only-of-type {\n",
       "        vertical-align: middle;\n",
       "    }\n",
       "\n",
       "    .dataframe tbody tr th {\n",
       "        vertical-align: top;\n",
       "    }\n",
       "\n",
       "    .dataframe thead th {\n",
       "        text-align: right;\n",
       "    }\n",
       "</style>\n",
       "<table border=\"1\" class=\"dataframe\">\n",
       "  <thead>\n",
       "    <tr style=\"text-align: right;\">\n",
       "      <th></th>\n",
       "      <th>Dist_bad</th>\n",
       "      <th>Dist_good</th>\n",
       "      <th>WOE</th>\n",
       "    </tr>\n",
       "    <tr>\n",
       "      <th>AGE_GROUP</th>\n",
       "      <th></th>\n",
       "      <th></th>\n",
       "      <th></th>\n",
       "    </tr>\n",
       "  </thead>\n",
       "  <tbody>\n",
       "    <tr>\n",
       "      <th>1</th>\n",
       "      <td>0.134831</td>\n",
       "      <td>0.141589</td>\n",
       "      <td>0.048900</td>\n",
       "    </tr>\n",
       "    <tr>\n",
       "      <th>2</th>\n",
       "      <td>0.089888</td>\n",
       "      <td>0.136655</td>\n",
       "      <td>0.418900</td>\n",
       "    </tr>\n",
       "    <tr>\n",
       "      <th>3</th>\n",
       "      <td>0.089888</td>\n",
       "      <td>0.143562</td>\n",
       "      <td>0.468206</td>\n",
       "    </tr>\n",
       "    <tr>\n",
       "      <th>4</th>\n",
       "      <td>0.146067</td>\n",
       "      <td>0.125062</td>\n",
       "      <td>-0.155261</td>\n",
       "    </tr>\n",
       "    <tr>\n",
       "      <th>5</th>\n",
       "      <td>0.134831</td>\n",
       "      <td>0.114455</td>\n",
       "      <td>-0.163845</td>\n",
       "    </tr>\n",
       "    <tr>\n",
       "      <th>6</th>\n",
       "      <td>0.213483</td>\n",
       "      <td>0.115195</td>\n",
       "      <td>-0.616933</td>\n",
       "    </tr>\n",
       "    <tr>\n",
       "      <th>7</th>\n",
       "      <td>0.101124</td>\n",
       "      <td>0.122102</td>\n",
       "      <td>0.188510</td>\n",
       "    </tr>\n",
       "    <tr>\n",
       "      <th>8</th>\n",
       "      <td>0.089888</td>\n",
       "      <td>0.101381</td>\n",
       "      <td>0.120329</td>\n",
       "    </tr>\n",
       "  </tbody>\n",
       "</table>\n",
       "</div>"
      ],
      "text/plain": [
       "           Dist_bad  Dist_good       WOE\n",
       "AGE_GROUP                               \n",
       "1          0.134831   0.141589  0.048900\n",
       "2          0.089888   0.136655  0.418900\n",
       "3          0.089888   0.143562  0.468206\n",
       "4          0.146067   0.125062 -0.155261\n",
       "5          0.134831   0.114455 -0.163845\n",
       "6          0.213483   0.115195 -0.616933\n",
       "7          0.101124   0.122102  0.188510\n",
       "8          0.089888   0.101381  0.120329"
      ]
     },
     "execution_count": 222,
     "metadata": {},
     "output_type": "execute_result"
    }
   ],
   "source": [
    "[WOE, IV] = WOE_cal(df_labeled,\"AGE_GROUP\")\n",
    "print(\"Value of Information (IV):\", IV)\n",
    "WOE"
   ]
  },
  {
   "cell_type": "code",
   "execution_count": 223,
   "id": "16160d00-0233-4d8b-bcf3-87128c9b9d1c",
   "metadata": {
    "tags": []
   },
   "outputs": [
    {
     "data": {
      "text/plain": [
       "<Axes: xlabel='AMT_INCOME_TOTAL', ylabel='Count'>"
      ]
     },
     "execution_count": 223,
     "metadata": {},
     "output_type": "execute_result"
    },
    {
     "data": {
      "image/png": "[encoded data removed]",
      "text/plain": [
       "<Figure size 640x480 with 1 Axes>"
      ]
     },
     "metadata": {},
     "output_type": "display_data"
    }
   ],
   "source": [
    "sns.histplot(data=df_labeled, x=\"AMT_INCOME_TOTAL\",bins=20)"
   ]
  },
  {
   "cell_type": "code",
   "execution_count": 224,
   "id": "9b3a5710-847f-44f9-8c17-8209e122b33c",
   "metadata": {
    "tags": []
   },
   "outputs": [],
   "source": [
    "def gen_bin_income(df):\n",
    "    # return group assigned for bin size = binSize\n",
    "    # assign data > binOver to the last group\n",
    "    binSize =40000\n",
    "    binOver = 320000\n",
    "    binMin = 80000\n",
    "    if df <= binMin:\n",
    "        return str(1)\n",
    "    elif df <= binOver:\n",
    "        return str(math.ceil((df-binMin)/binSize))\n",
    "    else:\n",
    "        return str(math.ceil((binOver-binMin)/binSize))\n"
   ]
  },
  {
   "cell_type": "code",
   "execution_count": 225,
   "id": "325e5e6f-fc65-4c95-a443-128aae5d35f9",
   "metadata": {
    "tags": []
   },
   "outputs": [],
   "source": [
    "df_labeled[\"AMT_INCOME_TOTAL_GROUP\"] = df_labeled[\"AMT_INCOME_TOTAL\"].apply(gen_bin_income)\n",
    "df_labeled[\"AMT_INCOME_TOTAL_GROUP\"] = df_labeled[\"AMT_INCOME_TOTAL_GROUP\"].astype('object')\n",
    "df_labeled= df_labeled.drop(\"AMT_INCOME_TOTAL\",axis=1)"
   ]
  },
  {
   "cell_type": "code",
   "execution_count": 226,
   "id": "d7251d0e-97ca-4a9a-9b03-43885765308e",
   "metadata": {
    "tags": []
   },
   "outputs": [
    {
     "data": {
      "text/plain": [
       "Text(0.5, 1.0, 'Percentage of Bad Customer in each group')"
      ]
     },
     "execution_count": 226,
     "metadata": {},
     "output_type": "execute_result"
    },
    {
     "data": {
      "image/png": "[encoded data removed]",
      "text/plain": [
       "<Figure size 1000x400 with 2 Axes>"
      ]
     },
     "metadata": {},
     "output_type": "display_data"
    }
   ],
   "source": [
    "fig, ax = plt.subplots(1, 2, figsize = (10,4))\n",
    "RowPlot = \"AMT_INCOME_TOTAL_GROUP\"\n",
    "sns.countplot(data=df_labeled, x=RowPlot,ax=ax[0],order=['1','2','3','4','5','6'])\n",
    "ax[0].set_title(\"Amount of customer in each group\")\n",
    "\n",
    "df_fam_percent_bad = df_labeled[[RowPlot,\"Bad_Customer\"]].groupby(RowPlot,as_index=False).mean()\n",
    "df_fam_percent_bad[\"Bad_Customer\"] = df_fam_percent_bad[\"Bad_Customer\"]*100\n",
    "sns.barplot(data=df_fam_percent_bad, x=RowPlot, y=\"Bad_Customer\", ax=ax[1])\n",
    "plt.ylabel(\"Percentage of Bad Customer\")\n",
    "ax[1].set_title(\"Percentage of Bad Customer in each group\")"
   ]
  },
  {
   "cell_type": "code",
   "execution_count": 227,
   "id": "4953228d-8748-4f2e-a446-a7104b823670",
   "metadata": {
    "tags": []
   },
   "outputs": [
    {
     "name": "stdout",
     "output_type": "stream",
     "text": [
      "Value of Information (IV): 0.10537685224854373\n"
     ]
    },
    {
     "data": {
      "text/html": [
       "<div>\n",
       "<style scoped>\n",
       "    .dataframe tbody tr th:only-of-type {\n",
       "        vertical-align: middle;\n",
       "    }\n",
       "\n",
       "    .dataframe tbody tr th {\n",
       "        vertical-align: top;\n",
       "    }\n",
       "\n",
       "    .dataframe thead th {\n",
       "        text-align: right;\n",
       "    }\n",
       "</style>\n",
       "<table border=\"1\" class=\"dataframe\">\n",
       "  <thead>\n",
       "    <tr style=\"text-align: right;\">\n",
       "      <th></th>\n",
       "      <th>Dist_bad</th>\n",
       "      <th>Dist_good</th>\n",
       "      <th>WOE</th>\n",
       "    </tr>\n",
       "    <tr>\n",
       "      <th>AMT_INCOME_TOTAL_GROUP</th>\n",
       "      <th></th>\n",
       "      <th></th>\n",
       "      <th></th>\n",
       "    </tr>\n",
       "  </thead>\n",
       "  <tbody>\n",
       "    <tr>\n",
       "      <th>1</th>\n",
       "      <td>0.235955</td>\n",
       "      <td>0.265910</td>\n",
       "      <td>0.119517</td>\n",
       "    </tr>\n",
       "    <tr>\n",
       "      <th>2</th>\n",
       "      <td>0.235955</td>\n",
       "      <td>0.255303</td>\n",
       "      <td>0.078811</td>\n",
       "    </tr>\n",
       "    <tr>\n",
       "      <th>3</th>\n",
       "      <td>0.112360</td>\n",
       "      <td>0.127035</td>\n",
       "      <td>0.122759</td>\n",
       "    </tr>\n",
       "    <tr>\n",
       "      <th>4</th>\n",
       "      <td>0.191011</td>\n",
       "      <td>0.155895</td>\n",
       "      <td>-0.203147</td>\n",
       "    </tr>\n",
       "    <tr>\n",
       "      <th>5</th>\n",
       "      <td>0.033708</td>\n",
       "      <td>0.085101</td>\n",
       "      <td>0.926109</td>\n",
       "    </tr>\n",
       "    <tr>\n",
       "      <th>6</th>\n",
       "      <td>0.191011</td>\n",
       "      <td>0.110755</td>\n",
       "      <td>-0.545013</td>\n",
       "    </tr>\n",
       "  </tbody>\n",
       "</table>\n",
       "</div>"
      ],
      "text/plain": [
       "                        Dist_bad  Dist_good       WOE\n",
       "AMT_INCOME_TOTAL_GROUP                               \n",
       "1                       0.235955   0.265910  0.119517\n",
       "2                       0.235955   0.255303  0.078811\n",
       "3                       0.112360   0.127035  0.122759\n",
       "4                       0.191011   0.155895 -0.203147\n",
       "5                       0.033708   0.085101  0.926109\n",
       "6                       0.191011   0.110755 -0.545013"
      ]
     },
     "execution_count": 227,
     "metadata": {},
     "output_type": "execute_result"
    }
   ],
   "source": [
    "[WOE, IV] = WOE_cal(df_labeled,\"AMT_INCOME_TOTAL_GROUP\")\n",
    "print(\"Value of Information (IV):\", IV)\n",
    "WOE"
   ]
  },
  {
   "cell_type": "code",
   "execution_count": 228,
   "id": "d5e7a6d3-30bd-412b-a3d1-58c723494585",
   "metadata": {
    "tags": []
   },
   "outputs": [
    {
     "data": {
      "text/plain": [
       "<Axes: xlabel='count', ylabel='YEAR_EMPLOYED'>"
      ]
     },
     "execution_count": 228,
     "metadata": {},
     "output_type": "execute_result"
    },
    {
     "data": {
      "image/png": "[encoded data removed]",
      "text/plain": [
       "<Figure size 1200x1200 with 1 Axes>"
      ]
     },
     "metadata": {},
     "output_type": "display_data"
    }
   ],
   "source": [
    "# Display data distribution\n",
    "fig, ax = plt.subplots(figsize=(12, 12))\n",
    "sns.countplot(data=df_labeled,y=\"YEAR_EMPLOYED\")"
   ]
  },
  {
   "cell_type": "code",
   "execution_count": 229,
   "id": "7b58daa5-06cc-4dc9-a4be-817ae96d2680",
   "metadata": {
    "tags": []
   },
   "outputs": [
    {
     "data": {
      "text/plain": [
       "<Axes: xlabel='Bad_Customer', ylabel='YEAR_EMPLOYED'>"
      ]
     },
     "execution_count": 229,
     "metadata": {},
     "output_type": "execute_result"
    },
    {
     "data": {
      "image/png": "[encoded data removed]",
      "text/plain": [
       "<Figure size 1200x1200 with 1 Axes>"
      ]
     },
     "metadata": {},
     "output_type": "display_data"
    }
   ],
   "source": [
    "# Bad customer percentage for each year of employment\n",
    "fig, ax = plt.subplots(figsize=(12, 12))\n",
    "df_year_percent_bad = df_labeled[[\"YEAR_EMPLOYED\",\"Bad_Customer\"]].groupby(\"YEAR_EMPLOYED\",as_index=False).mean()\n",
    "df_year_percent_bad[\"Bad_Customer\"] = df_year_percent_bad[\"Bad_Customer\"]*100\n",
    "sns.barplot(data=df_year_percent_bad, y=\"YEAR_EMPLOYED\", x=\"Bad_Customer\",orient='h')\n"
   ]
  },
  {
   "cell_type": "code",
   "execution_count": 230,
   "id": "0e6594b6-e354-4647-9273-1f9dee5f48ff",
   "metadata": {
    "tags": []
   },
   "outputs": [],
   "source": [
    "def gen_bin_year(df):\n",
    "#assigned return group for bin size = binSize\n",
    "    # Assign data to the last group > binOver\n",
    "    binSize = 2\n",
    "    binOver = 16\n",
    "    if df == -1000:\n",
    "        return str(1)\n",
    "    elif df <= binOver:\n",
    "        return str(math.ceil(df/binSize) + 1)\n",
    "    else:\n",
    "        return str(math.ceil(binOver/binSize) + 1)"
   ]
  },
  {
   "cell_type": "code",
   "execution_count": 231,
   "id": "dbdc6d92-640e-4366-9ab4-80cf6282a08d",
   "metadata": {
    "tags": []
   },
   "outputs": [],
   "source": [
    "df_labeled[\"YEAR_EMPLOYED_GROUP\"] = df_labeled[\"YEAR_EMPLOYED\"].apply(gen_bin_year)\n"
   ]
  },
  {
   "cell_type": "code",
   "execution_count": 232,
   "id": "f22c5925-aae6-44c2-a7e4-3c261d1cc043",
   "metadata": {
    "tags": []
   },
   "outputs": [
    {
     "data": {
      "text/plain": [
       "Text(0.5, 1.0, 'Percentage of Bad Customer in each group')"
      ]
     },
     "execution_count": 232,
     "metadata": {},
     "output_type": "execute_result"
    },
    {
     "data": {
      "image/png": "[encoded data removed]",
      "text/plain": [
       "<Figure size 1000x400 with 2 Axes>"
      ]
     },
     "metadata": {},
     "output_type": "display_data"
    }
   ],
   "source": [
    "fig, ax = plt.subplots(1, 2, figsize = (10,4))\n",
    "RowPlot = \"YEAR_EMPLOYED_GROUP\"\n",
    "sns.countplot(data=df_labeled, x=RowPlot,ax=ax[0],order=map(str,range(1,10)))\n",
    "ax[0].set_title(\"Amount of customer in each group\")\n",
    "\n",
    "df_fam_percent_bad = df_labeled[[RowPlot,\"Bad_Customer\"]].groupby(RowPlot,as_index=False).mean()\n",
    "df_fam_percent_bad[\"Bad_Customer\"] = df_fam_percent_bad[\"Bad_Customer\"]*100\n",
    "sns.barplot(data=df_fam_percent_bad, x=RowPlot, y=\"Bad_Customer\", ax=ax[1])\n",
    "plt.ylabel(\"Percentage of Bad Customer\")\n",
    "ax[1].set_title(\"Percentage of Bad Customer in each group\")"
   ]
  },
  {
   "cell_type": "code",
   "execution_count": 233,
   "id": "2ddd7c78-88ed-4a71-b938-9ba87535f298",
   "metadata": {
    "tags": []
   },
   "outputs": [
    {
     "name": "stdout",
     "output_type": "stream",
     "text": [
      "Value of Information (IV): 0.18326788992276247\n"
     ]
    },
    {
     "data": {
      "text/html": [
       "<div>\n",
       "<style scoped>\n",
       "    .dataframe tbody tr th:only-of-type {\n",
       "        vertical-align: middle;\n",
       "    }\n",
       "\n",
       "    .dataframe tbody tr th {\n",
       "        vertical-align: top;\n",
       "    }\n",
       "\n",
       "    .dataframe thead th {\n",
       "        text-align: right;\n",
       "    }\n",
       "</style>\n",
       "<table border=\"1\" class=\"dataframe\">\n",
       "  <thead>\n",
       "    <tr style=\"text-align: right;\">\n",
       "      <th></th>\n",
       "      <th>Dist_bad</th>\n",
       "      <th>Dist_good</th>\n",
       "      <th>WOE</th>\n",
       "    </tr>\n",
       "    <tr>\n",
       "      <th>YEAR_EMPLOYED_GROUP</th>\n",
       "      <th></th>\n",
       "      <th></th>\n",
       "      <th></th>\n",
       "    </tr>\n",
       "  </thead>\n",
       "  <tbody>\n",
       "    <tr>\n",
       "      <th>1</th>\n",
       "      <td>0.179775</td>\n",
       "      <td>0.211889</td>\n",
       "      <td>0.164357</td>\n",
       "    </tr>\n",
       "    <tr>\n",
       "      <th>2</th>\n",
       "      <td>0.213483</td>\n",
       "      <td>0.144795</td>\n",
       "      <td>-0.388237</td>\n",
       "    </tr>\n",
       "    <tr>\n",
       "      <th>3</th>\n",
       "      <td>0.258427</td>\n",
       "      <td>0.148249</td>\n",
       "      <td>-0.555722</td>\n",
       "    </tr>\n",
       "    <tr>\n",
       "      <th>4</th>\n",
       "      <td>0.067416</td>\n",
       "      <td>0.130242</td>\n",
       "      <td>0.658514</td>\n",
       "    </tr>\n",
       "    <tr>\n",
       "      <th>5</th>\n",
       "      <td>0.078652</td>\n",
       "      <td>0.098668</td>\n",
       "      <td>0.226731</td>\n",
       "    </tr>\n",
       "    <tr>\n",
       "      <th>6</th>\n",
       "      <td>0.033708</td>\n",
       "      <td>0.081401</td>\n",
       "      <td>0.881657</td>\n",
       "    </tr>\n",
       "    <tr>\n",
       "      <th>7</th>\n",
       "      <td>0.044944</td>\n",
       "      <td>0.047854</td>\n",
       "      <td>0.062741</td>\n",
       "    </tr>\n",
       "    <tr>\n",
       "      <th>8</th>\n",
       "      <td>0.033708</td>\n",
       "      <td>0.033300</td>\n",
       "      <td>-0.012160</td>\n",
       "    </tr>\n",
       "    <tr>\n",
       "      <th>9</th>\n",
       "      <td>0.089888</td>\n",
       "      <td>0.103601</td>\n",
       "      <td>0.141990</td>\n",
       "    </tr>\n",
       "  </tbody>\n",
       "</table>\n",
       "</div>"
      ],
      "text/plain": [
       "                     Dist_bad  Dist_good       WOE\n",
       "YEAR_EMPLOYED_GROUP                               \n",
       "1                    0.179775   0.211889  0.164357\n",
       "2                    0.213483   0.144795 -0.388237\n",
       "3                    0.258427   0.148249 -0.555722\n",
       "4                    0.067416   0.130242  0.658514\n",
       "5                    0.078652   0.098668  0.226731\n",
       "6                    0.033708   0.081401  0.881657\n",
       "7                    0.044944   0.047854  0.062741\n",
       "8                    0.033708   0.033300 -0.012160\n",
       "9                    0.089888   0.103601  0.141990"
      ]
     },
     "execution_count": 233,
     "metadata": {},
     "output_type": "execute_result"
    }
   ],
   "source": [
    "[WOE, IV] = WOE_cal(df_labeled,\"YEAR_EMPLOYED_GROUP\")\n",
    "print(\"Value of Information (IV):\", IV)\n",
    "WOE"
   ]
  },
  {
   "cell_type": "code",
   "execution_count": 234,
   "id": "15bf9a73-bc34-4274-b05c-bc3481ab4c8e",
   "metadata": {
    "tags": []
   },
   "outputs": [],
   "source": [
    "df_labeled= df_labeled.drop(\"YEAR_EMPLOYED\",axis=1)\n",
    "df_labeled[\"YEAR_EMPLOYED_GROUP\"] = df_labeled[\"YEAR_EMPLOYED_GROUP\"].astype('object')"
   ]
  },
  {
   "cell_type": "code",
   "execution_count": 235,
   "id": "cc967c61-7065-42d9-b31d-94a30c1dd791",
   "metadata": {
    "tags": []
   },
   "outputs": [
    {
     "data": {
      "text/html": [
       "<div>\n",
       "<style scoped>\n",
       "    .dataframe tbody tr th:only-of-type {\n",
       "        vertical-align: middle;\n",
       "    }\n",
       "\n",
       "    .dataframe tbody tr th {\n",
       "        vertical-align: top;\n",
       "    }\n",
       "\n",
       "    .dataframe thead th {\n",
       "        text-align: right;\n",
       "    }\n",
       "</style>\n",
       "<table border=\"1\" class=\"dataframe\">\n",
       "  <thead>\n",
       "    <tr style=\"text-align: right;\">\n",
       "      <th></th>\n",
       "      <th>NAME_INCOME_TYPE</th>\n",
       "      <th>NAME_FAMILY_STATUS</th>\n",
       "      <th>OCCUPATION_TYPE</th>\n",
       "      <th>Bad_Customer</th>\n",
       "      <th>FAM_GROUP</th>\n",
       "      <th>AGE_GROUP</th>\n",
       "      <th>AMT_INCOME_TOTAL_GROUP</th>\n",
       "      <th>YEAR_EMPLOYED_GROUP</th>\n",
       "    </tr>\n",
       "  </thead>\n",
       "  <tbody>\n",
       "    <tr>\n",
       "      <th>0</th>\n",
       "      <td>Working</td>\n",
       "      <td>Civil marriage</td>\n",
       "      <td>G5</td>\n",
       "      <td>0</td>\n",
       "      <td>2</td>\n",
       "      <td>3</td>\n",
       "      <td>1</td>\n",
       "      <td>8</td>\n",
       "    </tr>\n",
       "    <tr>\n",
       "      <th>1</th>\n",
       "      <td>Pensioner</td>\n",
       "      <td>Married</td>\n",
       "      <td>G4</td>\n",
       "      <td>0</td>\n",
       "      <td>2</td>\n",
       "      <td>6</td>\n",
       "      <td>1</td>\n",
       "      <td>1</td>\n",
       "    </tr>\n",
       "    <tr>\n",
       "      <th>2</th>\n",
       "      <td>Working</td>\n",
       "      <td>Married</td>\n",
       "      <td>G5</td>\n",
       "      <td>0</td>\n",
       "      <td>2</td>\n",
       "      <td>3</td>\n",
       "      <td>1</td>\n",
       "      <td>2</td>\n",
       "    </tr>\n",
       "    <tr>\n",
       "      <th>3</th>\n",
       "      <td>Pensioner</td>\n",
       "      <td>Married</td>\n",
       "      <td>G4</td>\n",
       "      <td>0</td>\n",
       "      <td>2</td>\n",
       "      <td>8</td>\n",
       "      <td>1</td>\n",
       "      <td>1</td>\n",
       "    </tr>\n",
       "    <tr>\n",
       "      <th>4</th>\n",
       "      <td>Pensioner</td>\n",
       "      <td>Single / not married</td>\n",
       "      <td>G4</td>\n",
       "      <td>0</td>\n",
       "      <td>1</td>\n",
       "      <td>7</td>\n",
       "      <td>1</td>\n",
       "      <td>1</td>\n",
       "    </tr>\n",
       "  </tbody>\n",
       "</table>\n",
       "</div>"
      ],
      "text/plain": [
       "  NAME_INCOME_TYPE    NAME_FAMILY_STATUS OCCUPATION_TYPE  Bad_Customer  \\\n",
       "0          Working        Civil marriage              G5             0   \n",
       "1        Pensioner               Married              G4             0   \n",
       "2          Working               Married              G5             0   \n",
       "3        Pensioner               Married              G4             0   \n",
       "4        Pensioner  Single / not married              G4             0   \n",
       "\n",
       "  FAM_GROUP AGE_GROUP AMT_INCOME_TOTAL_GROUP YEAR_EMPLOYED_GROUP  \n",
       "0         2         3                      1                   8  \n",
       "1         2         6                      1                   1  \n",
       "2         2         3                      1                   2  \n",
       "3         2         8                      1                   1  \n",
       "4         1         7                      1                   1  "
      ]
     },
     "execution_count": 235,
     "metadata": {},
     "output_type": "execute_result"
    }
   ],
   "source": [
    "df_labeled.head()"
   ]
  },
  {
   "cell_type": "code",
   "execution_count": 236,
   "id": "3b01c894-f045-4a6b-9284-a5285201c61c",
   "metadata": {
    "tags": []
   },
   "outputs": [
    {
     "data": {
      "text/plain": [
       "Bad_Customer\n",
       "0    97.851798\n",
       "1     2.148202\n",
       "Name: proportion, dtype: float64"
      ]
     },
     "execution_count": 236,
     "metadata": {},
     "output_type": "execute_result"
    }
   ],
   "source": [
    "df_labeled[\"Bad_Customer\"].value_counts(normalize=True)*100"
   ]
  },
  {
   "cell_type": "code",
   "execution_count": 237,
   "id": "478f4b13-ebd8-4f51-8793-fe9041da5cd7",
   "metadata": {
    "tags": []
   },
   "outputs": [],
   "source": [
    "df_LogReg_one = df_labeled\n",
    "x_LogReg = df_LogReg_one.drop(\"Bad_Customer\",axis=1)\n",
    "y_LogReg = df_LogReg_one[\"Bad_Customer\"]\n",
    "x_LogReg_train, x_LogReg_test, y_LogReg_train, y_LogReg_test = train_test_split(x_LogReg, y_LogReg, test_size=0.25, stratify=y_LogReg, random_state=42)"
   ]
  },
  {
   "cell_type": "code",
   "execution_count": 238,
   "id": "d45438a0-efa9-4282-8644-229d37092f71",
   "metadata": {
    "tags": []
   },
   "outputs": [
    {
     "name": "stdout",
     "output_type": "stream",
     "text": [
      "<class 'pandas.core.frame.DataFrame'>\n",
      "Index: 3107 entries, 2861 to 1167\n",
      "Data columns (total 7 columns):\n",
      " #   Column                  Non-Null Count  Dtype \n",
      "---  ------                  --------------  ----- \n",
      " 0   NAME_INCOME_TYPE        3107 non-null   object\n",
      " 1   NAME_FAMILY_STATUS      3107 non-null   object\n",
      " 2   OCCUPATION_TYPE         3107 non-null   object\n",
      " 3   FAM_GROUP               3107 non-null   object\n",
      " 4   AGE_GROUP               3107 non-null   object\n",
      " 5   AMT_INCOME_TOTAL_GROUP  3107 non-null   object\n",
      " 6   YEAR_EMPLOYED_GROUP     3107 non-null   object\n",
      "dtypes: object(7)\n",
      "memory usage: 194.2+ KB\n"
     ]
    }
   ],
   "source": [
    "x_LogReg_train.info()"
   ]
  },
  {
   "cell_type": "code",
   "execution_count": 239,
   "id": "1bc383d4-007e-4d6c-a192-470cce5f5c5d",
   "metadata": {
    "tags": []
   },
   "outputs": [],
   "source": [
    "x_train_balance,y_train_balance = SMOTEN(random_state=10).fit_resample(x_LogReg_train,y_LogReg_train)\n",
    "x_LogReg_train_encoded = pd.get_dummies(x_train_balance)\n",
    "x_LogReg_test_encoded = pd.get_dummies(x_LogReg_test)\n"
   ]
  },
  {
   "cell_type": "code",
   "execution_count": 240,
   "id": "b0c67298-6cb8-4023-96be-01047a188d33",
   "metadata": {
    "tags": []
   },
   "outputs": [
    {
     "name": "stdout",
     "output_type": "stream",
     "text": [
      "<class 'pandas.core.frame.DataFrame'>\n",
      "RangeIndex: 6080 entries, 0 to 6079\n",
      "Data columns (total 44 columns):\n",
      " #   Column                                   Non-Null Count  Dtype\n",
      "---  ------                                   --------------  -----\n",
      " 0   NAME_INCOME_TYPE_Commercial associate    6080 non-null   bool \n",
      " 1   NAME_INCOME_TYPE_Pensioner               6080 non-null   bool \n",
      " 2   NAME_INCOME_TYPE_State servant           6080 non-null   bool \n",
      " 3   NAME_INCOME_TYPE_Working                 6080 non-null   bool \n",
      " 4   NAME_FAMILY_STATUS_Civil marriage        6080 non-null   bool \n",
      " 5   NAME_FAMILY_STATUS_Married               6080 non-null   bool \n",
      " 6   NAME_FAMILY_STATUS_Separated/Widow       6080 non-null   bool \n",
      " 7   NAME_FAMILY_STATUS_Single / not married  6080 non-null   bool \n",
      " 8   OCCUPATION_TYPE_G1                       6080 non-null   bool \n",
      " 9   OCCUPATION_TYPE_G2                       6080 non-null   bool \n",
      " 10  OCCUPATION_TYPE_G3                       6080 non-null   bool \n",
      " 11  OCCUPATION_TYPE_G4                       6080 non-null   bool \n",
      " 12  OCCUPATION_TYPE_G5                       6080 non-null   bool \n",
      " 13  OCCUPATION_TYPE_G6                       6080 non-null   bool \n",
      " 14  OCCUPATION_TYPE_G7                       6080 non-null   bool \n",
      " 15  OCCUPATION_TYPE_G8                       6080 non-null   bool \n",
      " 16  FAM_GROUP_1                              6080 non-null   bool \n",
      " 17  FAM_GROUP_2                              6080 non-null   bool \n",
      " 18  FAM_GROUP_3                              6080 non-null   bool \n",
      " 19  FAM_GROUP_4                              6080 non-null   bool \n",
      " 20  FAM_GROUP_5                              6080 non-null   bool \n",
      " 21  AGE_GROUP_1                              6080 non-null   bool \n",
      " 22  AGE_GROUP_2                              6080 non-null   bool \n",
      " 23  AGE_GROUP_3                              6080 non-null   bool \n",
      " 24  AGE_GROUP_4                              6080 non-null   bool \n",
      " 25  AGE_GROUP_5                              6080 non-null   bool \n",
      " 26  AGE_GROUP_6                              6080 non-null   bool \n",
      " 27  AGE_GROUP_7                              6080 non-null   bool \n",
      " 28  AGE_GROUP_8                              6080 non-null   bool \n",
      " 29  AMT_INCOME_TOTAL_GROUP_1                 6080 non-null   bool \n",
      " 30  AMT_INCOME_TOTAL_GROUP_2                 6080 non-null   bool \n",
      " 31  AMT_INCOME_TOTAL_GROUP_3                 6080 non-null   bool \n",
      " 32  AMT_INCOME_TOTAL_GROUP_4                 6080 non-null   bool \n",
      " 33  AMT_INCOME_TOTAL_GROUP_5                 6080 non-null   bool \n",
      " 34  AMT_INCOME_TOTAL_GROUP_6                 6080 non-null   bool \n",
      " 35  YEAR_EMPLOYED_GROUP_1                    6080 non-null   bool \n",
      " 36  YEAR_EMPLOYED_GROUP_2                    6080 non-null   bool \n",
      " 37  YEAR_EMPLOYED_GROUP_3                    6080 non-null   bool \n",
      " 38  YEAR_EMPLOYED_GROUP_4                    6080 non-null   bool \n",
      " 39  YEAR_EMPLOYED_GROUP_5                    6080 non-null   bool \n",
      " 40  YEAR_EMPLOYED_GROUP_6                    6080 non-null   bool \n",
      " 41  YEAR_EMPLOYED_GROUP_7                    6080 non-null   bool \n",
      " 42  YEAR_EMPLOYED_GROUP_8                    6080 non-null   bool \n",
      " 43  YEAR_EMPLOYED_GROUP_9                    6080 non-null   bool \n",
      "dtypes: bool(44)\n",
      "memory usage: 261.4 KB\n"
     ]
    }
   ],
   "source": [
    "x_LogReg_train_encoded.info()"
   ]
  },
  {
   "cell_type": "code",
   "execution_count": 241,
   "id": "a77f4fae-24cf-4e4f-8678-09f6e11d0b80",
   "metadata": {
    "tags": []
   },
   "outputs": [
    {
     "data": {
      "image/png": "[encoded data removed]",
      "text/plain": [
       "<Figure size 640x480 with 2 Axes>"
      ]
     },
     "metadata": {},
     "output_type": "display_data"
    },
    {
     "name": "stdout",
     "output_type": "stream",
     "text": [
      "              precision    recall  f1-score   support\n",
      "\n",
      "           0       0.98      0.83      0.90      1014\n",
      "           1       0.02      0.14      0.03        22\n",
      "\n",
      "    accuracy                           0.81      1036\n",
      "   macro avg       0.50      0.48      0.46      1036\n",
      "weighted avg       0.96      0.81      0.88      1036\n",
      "\n"
     ]
    }
   ],
   "source": [
    "log_clf = LogisticRegression(random_state=42, max_iter=2000).fit(x_LogReg_train_encoded, y_train_balance)\n",
    "y_predict= log_clf.predict(x_LogReg_test_encoded)\n",
    "log_cm = confusion_matrix(y_LogReg_test, y_predict, labels=log_clf.classes_)\n",
    "\n",
    "# Make a confusion matrix display\n",
    "log_disp = ConfusionMatrixDisplay(confusion_matrix=log_cm, \n",
    "                                  display_labels=log_clf.classes_)\n",
    "\n",
    "# Matrix of plot confusion\n",
    "log_disp.plot(values_format='')\n",
    "\n",
    "#Plot display\n",
    "plt.show()\n",
    "print(classification_report(y_LogReg_test,y_predict))\n",
    "y_pred_log = y_predict.copy()"
   ]
  },
  {
   "cell_type": "code",
   "execution_count": 242,
   "id": "b60101ea-4540-4fb4-9340-2d018392ae89",
   "metadata": {
    "scrolled": true,
    "tags": []
   },
   "outputs": [
    {
     "data": {
      "text/html": [
       "<style>#sk-container-id-5 {color: black;}#sk-container-id-5 pre{padding: 0;}#sk-container-id-5 div.sk-toggleable {background-color: white;}#sk-container-id-5 label.sk-toggleable__label {cursor: pointer;display: block;width: 100%;margin-bottom: 0;padding: 0.3em;box-sizing: border-box;text-align: center;}#sk-container-id-5 label.sk-toggleable__label-arrow:before {content: \"▸\";float: left;margin-right: 0.25em;color: #696969;}#sk-container-id-5 label.sk-toggleable__label-arrow:hover:before {color: black;}#sk-container-id-5 div.sk-estimator:hover label.sk-toggleable__label-arrow:before {color: black;}#sk-container-id-5 div.sk-toggleable__content {max-height: 0;max-width: 0;overflow: hidden;text-align: left;background-color: #f0f8ff;}#sk-container-id-5 div.sk-toggleable__content pre {margin: 0.2em;color: black;border-radius: 0.25em;background-color: #f0f8ff;}#sk-container-id-5 input.sk-toggleable__control:checked~div.sk-toggleable__content {max-height: 200px;max-width: 100%;overflow: auto;}#sk-container-id-5 input.sk-toggleable__control:checked~label.sk-toggleable__label-arrow:before {content: \"▾\";}#sk-container-id-5 div.sk-estimator input.sk-toggleable__control:checked~label.sk-toggleable__label {background-color: #d4ebff;}#sk-container-id-5 div.sk-label input.sk-toggleable__control:checked~label.sk-toggleable__label {background-color: #d4ebff;}#sk-container-id-5 input.sk-hidden--visually {border: 0;clip: rect(1px 1px 1px 1px);clip: rect(1px, 1px, 1px, 1px);height: 1px;margin: -1px;overflow: hidden;padding: 0;position: absolute;width: 1px;}#sk-container-id-5 div.sk-estimator {font-family: monospace;background-color: #f0f8ff;border: 1px dotted black;border-radius: 0.25em;box-sizing: border-box;margin-bottom: 0.5em;}#sk-container-id-5 div.sk-estimator:hover {background-color: #d4ebff;}#sk-container-id-5 div.sk-parallel-item::after {content: \"\";width: 100%;border-bottom: 1px solid gray;flex-grow: 1;}#sk-container-id-5 div.sk-label:hover label.sk-toggleable__label {background-color: #d4ebff;}#sk-container-id-5 div.sk-serial::before {content: \"\";position: absolute;border-left: 1px solid gray;box-sizing: border-box;top: 0;bottom: 0;left: 50%;z-index: 0;}#sk-container-id-5 div.sk-serial {display: flex;flex-direction: column;align-items: center;background-color: white;padding-right: 0.2em;padding-left: 0.2em;position: relative;}#sk-container-id-5 div.sk-item {position: relative;z-index: 1;}#sk-container-id-5 div.sk-parallel {display: flex;align-items: stretch;justify-content: center;background-color: white;position: relative;}#sk-container-id-5 div.sk-item::before, #sk-container-id-5 div.sk-parallel-item::before {content: \"\";position: absolute;border-left: 1px solid gray;box-sizing: border-box;top: 0;bottom: 0;left: 50%;z-index: -1;}#sk-container-id-5 div.sk-parallel-item {display: flex;flex-direction: column;z-index: 1;position: relative;background-color: white;}#sk-container-id-5 div.sk-parallel-item:first-child::after {align-self: flex-end;width: 50%;}#sk-container-id-5 div.sk-parallel-item:last-child::after {align-self: flex-start;width: 50%;}#sk-container-id-5 div.sk-parallel-item:only-child::after {width: 0;}#sk-container-id-5 div.sk-dashed-wrapped {border: 1px dashed gray;margin: 0 0.4em 0.5em 0.4em;box-sizing: border-box;padding-bottom: 0.4em;background-color: white;}#sk-container-id-5 div.sk-label label {font-family: monospace;font-weight: bold;display: inline-block;line-height: 1.2em;}#sk-container-id-5 div.sk-label-container {text-align: center;}#sk-container-id-5 div.sk-container {/* jupyter's `normalize.less` sets `[hidden] { display: none; }` but bootstrap.min.css set `[hidden] { display: none !important; }` so we also need the `!important` here to be able to override the default hidden behavior on the sphinx rendered scikit-learn.org. See: https://github.com/scikit-learn/scikit-learn/issues/21755 */display: inline-block !important;position: relative;}#sk-container-id-5 div.sk-text-repr-fallback {display: none;}</style><div id=\"sk-container-id-5\" class=\"sk-top-container\"><div class=\"sk-text-repr-fallback\"><pre>GridSearchCV(estimator=RandomForestClassifier(random_state=0),\n",
       "             param_grid={&#x27;max_depth&#x27;: [10, 20, 50],\n",
       "                         &#x27;min_samples_leaf&#x27;: [1, 5, 10],\n",
       "                         &#x27;n_estimators&#x27;: [50, 100, 200]},\n",
       "             refit=&#x27;f1&#x27;)</pre><b>In a Jupyter environment, please rerun this cell to show the HTML representation or trust the notebook. <br />On GitHub, the HTML representation is unable to render, please try loading this page with nbviewer.org.</b></div><div class=\"sk-container\" hidden><div class=\"sk-item sk-dashed-wrapped\"><div class=\"sk-label-container\"><div class=\"sk-label sk-toggleable\"><input class=\"sk-toggleable__control sk-hidden--visually\" id=\"sk-estimator-id-13\" type=\"checkbox\" ><label for=\"sk-estimator-id-13\" class=\"sk-toggleable__label sk-toggleable__label-arrow\">GridSearchCV</label><div class=\"sk-toggleable__content\"><pre>GridSearchCV(estimator=RandomForestClassifier(random_state=0),\n",
       "             param_grid={&#x27;max_depth&#x27;: [10, 20, 50],\n",
       "                         &#x27;min_samples_leaf&#x27;: [1, 5, 10],\n",
       "                         &#x27;n_estimators&#x27;: [50, 100, 200]},\n",
       "             refit=&#x27;f1&#x27;)</pre></div></div></div><div class=\"sk-parallel\"><div class=\"sk-parallel-item\"><div class=\"sk-item\"><div class=\"sk-label-container\"><div class=\"sk-label sk-toggleable\"><input class=\"sk-toggleable__control sk-hidden--visually\" id=\"sk-estimator-id-14\" type=\"checkbox\" ><label for=\"sk-estimator-id-14\" class=\"sk-toggleable__label sk-toggleable__label-arrow\">estimator: RandomForestClassifier</label><div class=\"sk-toggleable__content\"><pre>RandomForestClassifier(random_state=0)</pre></div></div></div><div class=\"sk-serial\"><div class=\"sk-item\"><div class=\"sk-estimator sk-toggleable\"><input class=\"sk-toggleable__control sk-hidden--visually\" id=\"sk-estimator-id-15\" type=\"checkbox\" ><label for=\"sk-estimator-id-15\" class=\"sk-toggleable__label sk-toggleable__label-arrow\">RandomForestClassifier</label><div class=\"sk-toggleable__content\"><pre>RandomForestClassifier(random_state=0)</pre></div></div></div></div></div></div></div></div></div></div>"
      ],
      "text/plain": [
       "GridSearchCV(estimator=RandomForestClassifier(random_state=0),\n",
       "             param_grid={'max_depth': [10, 20, 50],\n",
       "                         'min_samples_leaf': [1, 5, 10],\n",
       "                         'n_estimators': [50, 100, 200]},\n",
       "             refit='f1')"
      ]
     },
     "execution_count": 242,
     "metadata": {},
     "output_type": "execute_result"
    }
   ],
   "source": [
    "cv_params = {'n_estimators' : [50,100,200], \n",
    "              'max_depth' : [10,20,50],\n",
    "              'min_samples_leaf':[1,5,10]}\n",
    "rf = RandomForestClassifier(random_state=0)\n",
    "rf_val = GridSearchCV(rf, cv_params, refit='f1')\n",
    "rf_val.fit(x_LogReg_train_encoded, y_train_balance)"
   ]
  },
  {
   "cell_type": "code",
   "execution_count": 243,
   "id": "a31f31b1-59ea-42f8-9dea-50179fea1d69",
   "metadata": {
    "tags": []
   },
   "outputs": [
    {
     "data": {
      "image/png": "[encoded data removed]",
      "text/plain": [
       "<Figure size 640x480 with 2 Axes>"
      ]
     },
     "metadata": {},
     "output_type": "display_data"
    },
    {
     "name": "stdout",
     "output_type": "stream",
     "text": [
      "              precision    recall  f1-score   support\n",
      "\n",
      "           0       0.98      0.96      0.97      1014\n",
      "           1       0.02      0.05      0.03        22\n",
      "\n",
      "    accuracy                           0.94      1036\n",
      "   macro avg       0.50      0.50      0.50      1036\n",
      "weighted avg       0.96      0.94      0.95      1036\n",
      "\n"
     ]
    }
   ],
   "source": [
    "y_predict = rf_val.predict(x_LogReg_test_encoded)\n",
    "log_cm = confusion_matrix(y_LogReg_test, y_predict, labels=log_clf.classes_)\n",
    "\n",
    "# Make a confusion matrix display\n",
    "log_disp = ConfusionMatrixDisplay(confusion_matrix=log_cm, \n",
    "                                  display_labels=log_clf.classes_)\n",
    "# Matrix of plot confusion\n",
    "log_disp.plot(values_format='')\n",
    "\n",
    "# plot display\n",
    "plt.show()\n",
    "print(classification_report(y_LogReg_test,y_predict))\n",
    "y_pred_rf = y_predict.copy()"
   ]
  },
  {
   "cell_type": "code",
   "execution_count": 245,
   "id": "c9dbc6e9-6df6-46f8-8a17-3e104fae57d9",
   "metadata": {
    "tags": []
   },
   "outputs": [],
   "source": [
    "cv_params = {'max_depth': [4, 6, 8],\n",
    "              'min_child_weight': [1, 3, 5],\n",
    "              'learning_rate': [0.1, 0.3, 0.5],\n",
    "              'n_estimators': [50, 100, 200],\n",
    "              }\n",
    "scoring = 'f1'"
   ]
  },
  {
   "cell_type": "code",
   "execution_count": 246,
   "id": "c5960226-bc50-4e0c-a3f6-2b2834e7cc9d",
   "metadata": {
    "tags": []
   },
   "outputs": [],
   "source": [
    "xgb = XGBClassifier(objective='binary:logistic', random_state=0)\n",
    "xgb_cv = GridSearchCV(xgb,\n",
    "                      cv_params,\n",
    "                      scoring=scoring,\n",
    "                      cv=5,\n",
    "                      refit='f1'\n",
    "                      )\n"
   ]
  },
  {
   "cell_type": "code",
   "execution_count": 247,
   "id": "a596346d-40a0-4f80-b8ac-057ea1c4b27f",
   "metadata": {
    "tags": []
   },
   "outputs": [
    {
     "data": {
      "text/html": [
       "<style>#sk-container-id-6 {color: black;}#sk-container-id-6 pre{padding: 0;}#sk-container-id-6 div.sk-toggleable {background-color: white;}#sk-container-id-6 label.sk-toggleable__label {cursor: pointer;display: block;width: 100%;margin-bottom: 0;padding: 0.3em;box-sizing: border-box;text-align: center;}#sk-container-id-6 label.sk-toggleable__label-arrow:before {content: \"▸\";float: left;margin-right: 0.25em;color: #696969;}#sk-container-id-6 label.sk-toggleable__label-arrow:hover:before {color: black;}#sk-container-id-6 div.sk-estimator:hover label.sk-toggleable__label-arrow:before {color: black;}#sk-container-id-6 div.sk-toggleable__content {max-height: 0;max-width: 0;overflow: hidden;text-align: left;background-color: #f0f8ff;}#sk-container-id-6 div.sk-toggleable__content pre {margin: 0.2em;color: black;border-radius: 0.25em;background-color: #f0f8ff;}#sk-container-id-6 input.sk-toggleable__control:checked~div.sk-toggleable__content {max-height: 200px;max-width: 100%;overflow: auto;}#sk-container-id-6 input.sk-toggleable__control:checked~label.sk-toggleable__label-arrow:before {content: \"▾\";}#sk-container-id-6 div.sk-estimator input.sk-toggleable__control:checked~label.sk-toggleable__label {background-color: #d4ebff;}#sk-container-id-6 div.sk-label input.sk-toggleable__control:checked~label.sk-toggleable__label {background-color: #d4ebff;}#sk-container-id-6 input.sk-hidden--visually {border: 0;clip: rect(1px 1px 1px 1px);clip: rect(1px, 1px, 1px, 1px);height: 1px;margin: -1px;overflow: hidden;padding: 0;position: absolute;width: 1px;}#sk-container-id-6 div.sk-estimator {font-family: monospace;background-color: #f0f8ff;border: 1px dotted black;border-radius: 0.25em;box-sizing: border-box;margin-bottom: 0.5em;}#sk-container-id-6 div.sk-estimator:hover {background-color: #d4ebff;}#sk-container-id-6 div.sk-parallel-item::after {content: \"\";width: 100%;border-bottom: 1px solid gray;flex-grow: 1;}#sk-container-id-6 div.sk-label:hover label.sk-toggleable__label {background-color: #d4ebff;}#sk-container-id-6 div.sk-serial::before {content: \"\";position: absolute;border-left: 1px solid gray;box-sizing: border-box;top: 0;bottom: 0;left: 50%;z-index: 0;}#sk-container-id-6 div.sk-serial {display: flex;flex-direction: column;align-items: center;background-color: white;padding-right: 0.2em;padding-left: 0.2em;position: relative;}#sk-container-id-6 div.sk-item {position: relative;z-index: 1;}#sk-container-id-6 div.sk-parallel {display: flex;align-items: stretch;justify-content: center;background-color: white;position: relative;}#sk-container-id-6 div.sk-item::before, #sk-container-id-6 div.sk-parallel-item::before {content: \"\";position: absolute;border-left: 1px solid gray;box-sizing: border-box;top: 0;bottom: 0;left: 50%;z-index: -1;}#sk-container-id-6 div.sk-parallel-item {display: flex;flex-direction: column;z-index: 1;position: relative;background-color: white;}#sk-container-id-6 div.sk-parallel-item:first-child::after {align-self: flex-end;width: 50%;}#sk-container-id-6 div.sk-parallel-item:last-child::after {align-self: flex-start;width: 50%;}#sk-container-id-6 div.sk-parallel-item:only-child::after {width: 0;}#sk-container-id-6 div.sk-dashed-wrapped {border: 1px dashed gray;margin: 0 0.4em 0.5em 0.4em;box-sizing: border-box;padding-bottom: 0.4em;background-color: white;}#sk-container-id-6 div.sk-label label {font-family: monospace;font-weight: bold;display: inline-block;line-height: 1.2em;}#sk-container-id-6 div.sk-label-container {text-align: center;}#sk-container-id-6 div.sk-container {/* jupyter's `normalize.less` sets `[hidden] { display: none; }` but bootstrap.min.css set `[hidden] { display: none !important; }` so we also need the `!important` here to be able to override the default hidden behavior on the sphinx rendered scikit-learn.org. See: https://github.com/scikit-learn/scikit-learn/issues/21755 */display: inline-block !important;position: relative;}#sk-container-id-6 div.sk-text-repr-fallback {display: none;}</style><div id=\"sk-container-id-6\" class=\"sk-top-container\"><div class=\"sk-text-repr-fallback\"><pre>GridSearchCV(cv=5,\n",
       "             estimator=XGBClassifier(base_score=None, booster=None,\n",
       "                                     callbacks=None, colsample_bylevel=None,\n",
       "                                     colsample_bynode=None,\n",
       "                                     colsample_bytree=None, device=None,\n",
       "                                     early_stopping_rounds=None,\n",
       "                                     enable_categorical=False, eval_metric=None,\n",
       "                                     feature_types=None, gamma=None,\n",
       "                                     grow_policy=None, importance_type=None,\n",
       "                                     interaction_constraints=None,\n",
       "                                     learning_rate=None,...\n",
       "                                     max_cat_to_onehot=None,\n",
       "                                     max_delta_step=None, max_depth=None,\n",
       "                                     max_leaves=None, min_child_weight=None,\n",
       "                                     missing=nan, monotone_constraints=None,\n",
       "                                     multi_strategy=None, n_estimators=None,\n",
       "                                     n_jobs=None, num_parallel_tree=None,\n",
       "                                     random_state=0, ...),\n",
       "             param_grid={&#x27;learning_rate&#x27;: [0.1, 0.3, 0.5],\n",
       "                         &#x27;max_depth&#x27;: [4, 6, 8], &#x27;min_child_weight&#x27;: [1, 3, 5],\n",
       "                         &#x27;n_estimators&#x27;: [50, 100, 200]},\n",
       "             refit=&#x27;f1&#x27;, scoring=&#x27;f1&#x27;)</pre><b>In a Jupyter environment, please rerun this cell to show the HTML representation or trust the notebook. <br />On GitHub, the HTML representation is unable to render, please try loading this page with nbviewer.org.</b></div><div class=\"sk-container\" hidden><div class=\"sk-item sk-dashed-wrapped\"><div class=\"sk-label-container\"><div class=\"sk-label sk-toggleable\"><input class=\"sk-toggleable__control sk-hidden--visually\" id=\"sk-estimator-id-16\" type=\"checkbox\" ><label for=\"sk-estimator-id-16\" class=\"sk-toggleable__label sk-toggleable__label-arrow\">GridSearchCV</label><div class=\"sk-toggleable__content\"><pre>GridSearchCV(cv=5,\n",
       "             estimator=XGBClassifier(base_score=None, booster=None,\n",
       "                                     callbacks=None, colsample_bylevel=None,\n",
       "                                     colsample_bynode=None,\n",
       "                                     colsample_bytree=None, device=None,\n",
       "                                     early_stopping_rounds=None,\n",
       "                                     enable_categorical=False, eval_metric=None,\n",
       "                                     feature_types=None, gamma=None,\n",
       "                                     grow_policy=None, importance_type=None,\n",
       "                                     interaction_constraints=None,\n",
       "                                     learning_rate=None,...\n",
       "                                     max_cat_to_onehot=None,\n",
       "                                     max_delta_step=None, max_depth=None,\n",
       "                                     max_leaves=None, min_child_weight=None,\n",
       "                                     missing=nan, monotone_constraints=None,\n",
       "                                     multi_strategy=None, n_estimators=None,\n",
       "                                     n_jobs=None, num_parallel_tree=None,\n",
       "                                     random_state=0, ...),\n",
       "             param_grid={&#x27;learning_rate&#x27;: [0.1, 0.3, 0.5],\n",
       "                         &#x27;max_depth&#x27;: [4, 6, 8], &#x27;min_child_weight&#x27;: [1, 3, 5],\n",
       "                         &#x27;n_estimators&#x27;: [50, 100, 200]},\n",
       "             refit=&#x27;f1&#x27;, scoring=&#x27;f1&#x27;)</pre></div></div></div><div class=\"sk-parallel\"><div class=\"sk-parallel-item\"><div class=\"sk-item\"><div class=\"sk-label-container\"><div class=\"sk-label sk-toggleable\"><input class=\"sk-toggleable__control sk-hidden--visually\" id=\"sk-estimator-id-17\" type=\"checkbox\" ><label for=\"sk-estimator-id-17\" class=\"sk-toggleable__label sk-toggleable__label-arrow\">estimator: XGBClassifier</label><div class=\"sk-toggleable__content\"><pre>XGBClassifier(base_score=None, booster=None, callbacks=None,\n",
       "              colsample_bylevel=None, colsample_bynode=None,\n",
       "              colsample_bytree=None, device=None, early_stopping_rounds=None,\n",
       "              enable_categorical=False, eval_metric=None, feature_types=None,\n",
       "              gamma=None, grow_policy=None, importance_type=None,\n",
       "              interaction_constraints=None, learning_rate=None, max_bin=None,\n",
       "              max_cat_threshold=None, max_cat_to_onehot=None,\n",
       "              max_delta_step=None, max_depth=None, max_leaves=None,\n",
       "              min_child_weight=None, missing=nan, monotone_constraints=None,\n",
       "              multi_strategy=None, n_estimators=None, n_jobs=None,\n",
       "              num_parallel_tree=None, random_state=0, ...)</pre></div></div></div><div class=\"sk-serial\"><div class=\"sk-item\"><div class=\"sk-estimator sk-toggleable\"><input class=\"sk-toggleable__control sk-hidden--visually\" id=\"sk-estimator-id-18\" type=\"checkbox\" ><label for=\"sk-estimator-id-18\" class=\"sk-toggleable__label sk-toggleable__label-arrow\">XGBClassifier</label><div class=\"sk-toggleable__content\"><pre>XGBClassifier(base_score=None, booster=None, callbacks=None,\n",
       "              colsample_bylevel=None, colsample_bynode=None,\n",
       "              colsample_bytree=None, device=None, early_stopping_rounds=None,\n",
       "              enable_categorical=False, eval_metric=None, feature_types=None,\n",
       "              gamma=None, grow_policy=None, importance_type=None,\n",
       "              interaction_constraints=None, learning_rate=None, max_bin=None,\n",
       "              max_cat_threshold=None, max_cat_to_onehot=None,\n",
       "              max_delta_step=None, max_depth=None, max_leaves=None,\n",
       "              min_child_weight=None, missing=nan, monotone_constraints=None,\n",
       "              multi_strategy=None, n_estimators=None, n_jobs=None,\n",
       "              num_parallel_tree=None, random_state=0, ...)</pre></div></div></div></div></div></div></div></div></div></div>"
      ],
      "text/plain": [
       "GridSearchCV(cv=5,\n",
       "             estimator=XGBClassifier(base_score=None, booster=None,\n",
       "                                     callbacks=None, colsample_bylevel=None,\n",
       "                                     colsample_bynode=None,\n",
       "                                     colsample_bytree=None, device=None,\n",
       "                                     early_stopping_rounds=None,\n",
       "                                     enable_categorical=False, eval_metric=None,\n",
       "                                     feature_types=None, gamma=None,\n",
       "                                     grow_policy=None, importance_type=None,\n",
       "                                     interaction_constraints=None,\n",
       "                                     learning_rate=None,...\n",
       "                                     max_cat_to_onehot=None,\n",
       "                                     max_delta_step=None, max_depth=None,\n",
       "                                     max_leaves=None, min_child_weight=None,\n",
       "                                     missing=nan, monotone_constraints=None,\n",
       "                                     multi_strategy=None, n_estimators=None,\n",
       "                                     n_jobs=None, num_parallel_tree=None,\n",
       "                                     random_state=0, ...),\n",
       "             param_grid={'learning_rate': [0.1, 0.3, 0.5],\n",
       "                         'max_depth': [4, 6, 8], 'min_child_weight': [1, 3, 5],\n",
       "                         'n_estimators': [50, 100, 200]},\n",
       "             refit='f1', scoring='f1')"
      ]
     },
     "execution_count": 247,
     "metadata": {},
     "output_type": "execute_result"
    }
   ],
   "source": [
    "xgb_cv = xgb_cv.fit(x_LogReg_train_encoded, y_train_balance)\n",
    "xgb_cv"
   ]
  },
  {
   "cell_type": "code",
   "execution_count": 248,
   "id": "8fb61c36-34c2-48ca-9e75-f0c89c09ca9e",
   "metadata": {
    "tags": []
   },
   "outputs": [
    {
     "data": {
      "image/png": "[encoded data removed]",
      "text/plain": [
       "<Figure size 640x480 with 2 Axes>"
      ]
     },
     "metadata": {},
     "output_type": "display_data"
    },
    {
     "name": "stdout",
     "output_type": "stream",
     "text": [
      "              precision    recall  f1-score   support\n",
      "\n",
      "           0       0.98      0.95      0.96      1014\n",
      "           1       0.02      0.05      0.03        22\n",
      "\n",
      "    accuracy                           0.93      1036\n",
      "   macro avg       0.50      0.50      0.50      1036\n",
      "weighted avg       0.96      0.93      0.94      1036\n",
      "\n"
     ]
    }
   ],
   "source": [
    "y_predict = xgb_cv.predict(x_LogReg_test_encoded)\n",
    "log_cm = confusion_matrix(y_LogReg_test, y_predict, labels=log_clf.classes_)\n",
    "\n",
    "# Make a confusion matrix display\n",
    "log_disp = ConfusionMatrixDisplay(confusion_matrix=log_cm, \n",
    "                                  display_labels=log_clf.classes_)\n",
    "\n",
    "# Matrix of plot confusion\n",
    "log_disp.plot(values_format='')\n",
    "\n",
    "# Plot Display\n",
    "plt.show()\n",
    "print(classification_report(y_LogReg_test,y_predict))\n",
    "y_pred_xg = y_predict.copy()"
   ]
  },
  {
   "cell_type": "markdown",
   "id": "5871ebea",
   "metadata": {},
   "source": [
    "RESULTS:Model Evaluation Overview:​\n",
    "\n",
    "Logistic Regression, Random Forest, and XGBoost were evaluated for credit approval prediction.​\n",
    "\n",
    "Each model provided nuanced perspectives on accuracy and efficacy.​\n",
    "\n",
    "Logistic Regression's Attributes:​\n",
    "\n",
    "Fundamental in binary classification, showcasing simplicity and interpretability.​\n",
    "\n",
    "Suitable for scenarios where transparency in decision-making is crucial.​\n",
    "\n",
    "Random Forest's Robustness:​\n",
    "\n",
    "Leverages an ensemble of decision trees, demonstrating robustness in capturing complex data relationships.​\n",
    "\n",
    "Offers a higher level of predictive accuracy compared to Logistic Regression.​\n",
    "\n",
    "XGBoost's Superior Performance:​\n",
    "\n",
    "Gradient-boosting algorithm that sequentially improves upon weaknesses of preceding models.​\n",
    "\n",
    "Often excels in predictive tasks, showcasing superior performance.​"
   ]
  },
  {
   "cell_type": "markdown",
   "id": "f8945e5f",
   "metadata": {},
   "source": [
    "CONCLUSIONS:​\n",
    "\n",
    "\n",
    "The model offers valuable insights for financial institutions to enhance their credit approval processes.​\n",
    "\n",
    "Continuous monitoring and refinement of the model are crucial to adapt to evolving market conditions and changes in customer behavior.​\n",
    "\n",
    "The model provides a foundation for data-driven decision-making, aiding in more objective and consistent credit assessments."
   ]
  },
  {
   "cell_type": "markdown",
   "id": "a46629cc",
   "metadata": {},
   "source": [
    "REFERENCES: \n",
    "[1]https://www.kaggle.com/code/wisartthongyoy/credit-card-approval-prediction\n",
    "[2]Peiris, M. P. C. (2022). Credit Card Approval Prediction by Using Machine Learning Techniques (Doctoral dissertation).\n",
    "[3]Arora, S., Bindra, S., Singh, S., & Nassa, V. K. (2022). Prediction of credit card defaults through data analysis and machine learning techniques. Materials Today: Proceedings, 51, 110-117.\n",
    "[4]Janapareddy, D., & Yenduri, N. C. (2023). Credit Card Approval Prediction: A comparative analysis between logistic regressionclassifier, random forest classifier, support vectorclassifier with ensemble bagging classifier.\n",
    "[5]Faisal, M. F., Saqlain, M. N. U., Bhuiyan, M. A. S., Miraz, M. H., & Patwary, M. J. (2021, December). Credit approval system using machine learning: Challenges and future directions. In 2021 International Conference on Computing, Networking, Telecommunications & Engineering Sciences Applications (CoNTESA) (pp. 76-82). IEEE."
   ]
  },
  {
   "cell_type": "code",
   "execution_count": null,
   "id": "5f150bc3",
   "metadata": {},
   "outputs": [],
   "source": []
  }
 ],
 "metadata": {
  "kernelspec": {
   "display_name": "Python 3 (ipykernel)",
   "language": "python",
   "name": "python3"
  },
  "language_info": {
   "codemirror_mode": {
    "name": "ipython",
    "version": 3
   },
   "file_extension": ".py",
   "mimetype": "text/x-python",
   "name": "python",
   "nbconvert_exporter": "python",
   "pygments_lexer": "ipython3",
   "version": "3.11.4"
  }
 },
 "nbformat": 4,
 "nbformat_minor": 5
}
